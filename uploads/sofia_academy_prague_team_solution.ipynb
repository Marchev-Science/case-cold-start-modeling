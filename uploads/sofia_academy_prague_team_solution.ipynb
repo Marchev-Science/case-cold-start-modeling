{
 "cells": [
  {
   "cell_type": "markdown",
   "metadata": {},
   "source": [
    "Importing libraries"
   ]
  },
  {
   "cell_type": "code",
   "execution_count": 1,
   "metadata": {
    "scrolled": true
   },
   "outputs": [],
   "source": [
    "import pandas as pd\n",
    "import numpy as np\n",
    "import random\n",
    "from sklearn.preprocessing import MinMaxScaler\n",
    "from sklearn.preprocessing import LabelEncoder\n",
    "from sklearn.decomposition import PCA\n",
    "from sklearn.preprocessing import StandardScaler\n",
    "from sklearn.cluster import KMeans\n",
    "from collections import Counter\n",
    "from collections import OrderedDict\n",
    "from sklearn.model_selection import train_test_split\n",
    "from sklearn.linear_model import LogisticRegression\n",
    "from sklearn.metrics import roc_auc_score, average_precision_score\n",
    "from sklearn.ensemble import IsolationForest\n",
    "from sklearn.svm import SVC\n",
    "from sklearn.ensemble import GradientBoostingClassifier\n",
    "from sklearn.model_selection import GridSearchCV\n",
    "import shap\n",
    "import matplotlib.pyplot as plt"
   ]
  },
  {
   "cell_type": "code",
   "execution_count": 2,
   "metadata": {},
   "outputs": [],
   "source": [
    "np.set_printoptions(suppress = True)\n",
    "pd.options.display.max_colwidth = 100\n",
    "np.random.seed(0)"
   ]
  },
  {
   "cell_type": "raw",
   "metadata": {},
   "source": [
    "For this task we are using an anaconda environment with the following libraries and libraries' versions installed. \n",
    "Note that shap is currently not compatible with python 3.11. For this and other compatibility issues we created an environment with python 3.6. \n",
    "argon2-cffi               21.3.0                   pypi_0    pypi\n",
    "argon2-cffi-bindings      21.2.0                   pypi_0    pypi\n",
    "async-generator           1.10                     pypi_0    pypi\n",
    "attrs                     22.2.0                   pypi_0    pypi\n",
    "backcall                  0.2.0                    pypi_0    pypi\n",
    "bleach                    4.1.0                    pypi_0    pypi\n",
    "certifi                   2021.5.30        py36haa95532_0    defaults\n",
    "cffi                      1.15.1                   pypi_0    pypi\n",
    "cloudpickle               2.2.1                    pypi_0    pypi\n",
    "colorama                  0.4.5                    pypi_0    pypi\n",
    "cycler                    0.11.0                   pypi_0    pypi\n",
    "dataclasses               0.8                      pypi_0    pypi\n",
    "decorator                 5.1.1                    pypi_0    pypi\n",
    "defusedxml                0.7.1                    pypi_0    pypi\n",
    "entrypoints               0.4                      pypi_0    pypi\n",
    "importlib-metadata        4.8.3                    pypi_0    pypi\n",
    "importlib-resources       5.4.0                    pypi_0    pypi\n",
    "ipykernel                 5.5.6                    pypi_0    pypi\n",
    "ipython                   7.16.3                   pypi_0    pypi\n",
    "ipython-genutils          0.2.0                    pypi_0    pypi\n",
    "ipywidgets                7.7.5                    pypi_0    pypi\n",
    "jedi                      0.17.2                   pypi_0    pypi\n",
    "jinja2                    3.0.3                    pypi_0    pypi\n",
    "joblib                    1.1.1                    pypi_0    pypi\n",
    "jsonschema                4.0.0                    pypi_0    pypi\n",
    "jupyter-client            7.1.2                    pypi_0    pypi\n",
    "jupyter-core              4.9.2                    pypi_0    pypi\n",
    "jupyterlab-pygments       0.1.2                    pypi_0    pypi\n",
    "jupyterlab-widgets        1.1.4                    pypi_0    pypi\n",
    "kiwisolver                1.3.1                    pypi_0    pypi\n",
    "llvmlite                  0.36.0                   pypi_0    pypi\n",
    "markupsafe                2.0.1                    pypi_0    pypi\n",
    "matplotlib                3.3.4                    pypi_0    pypi\n",
    "mistune                   0.8.4                    pypi_0    pypi\n",
    "nbclient                  0.5.9                    pypi_0    pypi\n",
    "nbconvert                 6.0.7                    pypi_0    pypi\n",
    "nbformat                  5.1.3                    pypi_0    pypi\n",
    "nest-asyncio              1.5.6                    pypi_0    pypi\n",
    "notebook                  6.4.10                   pypi_0    pypi\n",
    "numba                     0.53.1                   pypi_0    pypi\n",
    "numpy                     1.19.5                   pypi_0    pypi\n",
    "packaging                 21.3                     pypi_0    pypi\n",
    "pandas                    1.1.5                    pypi_0    pypi\n",
    "pandocfilters             1.5.0                    pypi_0    pypi\n",
    "parso                     0.7.1                    pypi_0    pypi\n",
    "pickleshare               0.7.5                    pypi_0    pypi\n",
    "pillow                    8.4.0                    pypi_0    pypi\n",
    "pip                       21.2.2           py36haa95532_0    defaults\n",
    "prometheus-client         0.17.0                   pypi_0    pypi\n",
    "prompt-toolkit            3.0.36                   pypi_0    pypi\n",
    "pycparser                 2.21                     pypi_0    pypi\n",
    "pygments                  2.14.0                   pypi_0    pypi\n",
    "pyparsing                 3.0.9                    pypi_0    pypi\n",
    "pyrsistent                0.18.0                   pypi_0    pypi\n",
    "python                    3.6.13               h3758d61_0    defaults\n",
    "python-dateutil           2.8.2                    pypi_0    pypi\n",
    "pytz                      2023.3                   pypi_0    pypi\n",
    "pywin32                   305                      pypi_0    pypi\n",
    "pywinpty                  1.1.6                    pypi_0    pypi\n",
    "pyzmq                     25.1.0                   pypi_0    pypi\n",
    "scikit-learn              0.24.2                   pypi_0    pypi\n",
    "scipy                     1.5.4                    pypi_0    pypi\n",
    "send2trash                1.8.2                    pypi_0    pypi\n",
    "setuptools                58.0.4           py36haa95532_0    defaults\n",
    "shap                      0.41.0                   pypi_0    pypi\n",
    "six                       1.16.0                   pypi_0    pypi\n",
    "slicer                    0.0.7                    pypi_0    pypi\n",
    "sqlite                    3.41.2               h2bbff1b_0    defaults\n",
    "terminado                 0.13.0                   pypi_0    pypi\n",
    "testpath                  0.6.0                    pypi_0    pypi\n",
    "threadpoolctl             3.1.0                    pypi_0    pypi\n",
    "tornado                   6.1                      pypi_0    pypi\n",
    "tqdm                      4.64.1                   pypi_0    pypi\n",
    "traitlets                 4.3.3                    pypi_0    pypi\n",
    "typing-extensions         4.1.1                    pypi_0    pypi\n",
    "vc                        14.2                 h21ff451_1    defaults\n",
    "vs2015_runtime            14.27.29016          h5e58377_2    defaults\n",
    "wcwidth                   0.2.6                    pypi_0    pypi\n",
    "webencodings              0.5.1                    pypi_0    pypi\n",
    "wheel                     0.37.1             pyhd3eb1b0_0    defaults\n",
    "widgetsnbextension        3.6.4                    pypi_0    pypi\n",
    "wincertstore              0.2              py36h7fe50ca_0    defaults\n",
    "zipp                      3.6.0                    pypi_0    pypi"
   ]
  },
  {
   "cell_type": "markdown",
   "metadata": {},
   "source": [
    "# Data preparation"
   ]
  },
  {
   "cell_type": "markdown",
   "metadata": {},
   "source": [
    "Functions (the second one is reported for completeness but we are not gonna use it)"
   ]
  },
  {
   "cell_type": "code",
   "execution_count": 3,
   "metadata": {},
   "outputs": [],
   "source": [
    "def extract_dists(x,dists):\n",
    "    '''\n",
    "    A function to extract distributions from the dictionary dists,where:\n",
    "    x is the name of the feature to extract in ''\n",
    "    dists is the dictionary with all distributions\n",
    "    '''\n",
    "    import pandas as pd\n",
    "    column_names = dists[x]['labels']\n",
    "    values = [dists[x]['values']]\n",
    "    pd_df = pd.DataFrame(data=values, columns=column_names)\n",
    "    pd_df.index = pd.Index([x])\n",
    "    return pd_df\n",
    "\n",
    "def corr2df(corr):\n",
    "    '''\n",
    "    A function to create correlation dataframe from dictionary corr, where\n",
    "    corr is the dictionary with the correlation matrix\n",
    "    '''\n",
    "    import pandas as df\n",
    "    corr_df = pd.DataFrame(corr)\n",
    "    corr_df.set_index('features', inplace=True)\n",
    "    corr_df.index.name=None\n",
    "    return corr_df"
   ]
  },
  {
   "cell_type": "markdown",
   "metadata": {},
   "source": [
    "Distributions of categorical features, for the purpose of the exercise we removed the targets from the dictionary"
   ]
  },
  {
   "cell_type": "code",
   "execution_count": 4,
   "metadata": {},
   "outputs": [],
   "source": [
    "dists = {\n",
    "    'sex':{'labels':['M', 'F'], 'values':[0.4854368932,0.5145631068]},\n",
    "    'lv_educ':{'labels':['Incomplete', 'Primary', 'Basic', 'Secondary', 'Higher'], 'values':[0.0595,0.07788016474,0.2309254283,0.4359496722,0.1957067711]},\n",
    "    'empl_stat':{'labels':['Employers', 'Self-employed', 'Employed in private sector', 'Employed in public sector', 'Unpaid family workers'], 'values':[0.03631598652,0.07272557095,0.6708785723,0.2126544365,0.00742543367]},\n",
    "    'marit_stat':{'labels':['Single', 'Married', 'Divorced', 'Widowed'], 'values':[0.397,0.443,0.058,0.102]},\n",
    "    'house_memb':{'labels':['1', '2', '3', '4', '5', '6', '7+'], 'values':[0.1805,0.3778,0.2387,0.1157,0.0525,0.0238,0.011]},\n",
    "    'chil_u_18_y':{'labels':['No children under 18', 'One child under 18', 'Two children under 18', 'Three children under 18', 'Four children under 18', 'Five children under 18', 'Six or more children under 18'], 'values':[0.422602157,0.36552047,0.183222339,0.020674764,0.004993779,0.001875149,0.001111341]},\n",
    "    'nation':{'labels':['Bulgaria', 'EU', 'Other'], 'values':[0.9950198043,0.001146570676,0.003833625045]},\n",
    "    'religion':{'labels':['Protestant', 'Catholic', 'Orthodox', 'Muslim', 'Other', 'No religion', 'I do not identify myself'], 'values':[0.011,0.008,0.76,0.1,0.002,0.047,0.072]},\n",
    "    'soc_econ_stat':{'labels':['Economically active', 'Economically inactive'], 'values':[0.6151643031,0.3848356969]},\n",
    "    'prof_ind':{'labels':['Agriculture, forestry and fisheries', 'Mining and processing industry', 'Utilities (electricity distribution and water supply)', 'Construction', 'Trade, automobile and motorcycle repair', 'Transportation, warehousing and mail', 'Hospitality and restaurant services', 'Creation and distribution of information and creative products', 'Telecommunications', 'Financial and administrative activities', 'Public administration', 'Education and research', 'Human health and social work', 'Other activities'], 'values':[0.03090815115,0.2353,0.029,0.05523651408,0.1645618594,0.06439111505,0.05161626582,0.03936261795,0.07356911161,0.04836124844,0.104946474,0.06006423384,0.04269692032]},\n",
    "    'prof_stat':{'labels':['Management contract', 'Employment contract', 'Civil contract', 'Self-employed', 'Unemployed', 'Pensioner'], 'values':[0.01783393631,0.4732428049,0.02497602302,0.0385148509,0.167699009,0.277733376]},\n",
    "    'count_house':{'labels':['0', '1', '2+'], 'values':[0.37,0.6,0.03]},\n",
    "    'own_field':{'labels':['YES', 'NO'], 'values':[0.184481059,0.2621335023,0.5533854387]},\n",
    "    'num_car_house':{'labels':['0', '1', '2', '3+'], 'values':[0.5714285714,0.36,0.06428571429,0.004285714286]},\n",
    "    'own_rent_house':{'labels':['my own', 'rented'], 'values':[0.843,0.157]},\n",
    "    'edu':{'labels':['Educational Sciences', 'Humanities', 'Social, Economic and Legal Sciences', 'Natural Sciences, Mathematics and Informatics', 'Technical Sciences', 'Agricultural Sciences and Veterinary Medicine', 'Health and Sports', 'Arts', 'Security and Defense'], 'values':[0.07591254907,0.0461889827,0.5266633332,0.04571641724,0.1533297557,0.01776640163,0.0930038303,0.02247374859,0.01891291637]},\n",
    "    'temp':{'labels':['Choleric', 'Phlegmatic', 'Sanguine', 'Melancholic'], 'values':[0.38,0.11,0.23,0.28]},\n",
    "    'invest_exp':{'labels':['0', '1-5', '6-10', '11-15', '16-25'], 'values':[0.7,0.2,0.06,0.03,0.01]},\n",
    "    'shares':{'labels':['YES', 'NO'], 'values':[0.003394353314,0.9966056467]},\n",
    "    'corp_oblig':{'labels':['YES', 'NO'], 'values':[0.0003792213936,0.9996207786]},\n",
    "    'oth':{'labels':['YES', 'NO'], 'values':[0.000592597502012084,0.999407402497988]},\n",
    "    'inv_fund':{'labels':['YES', 'NO'], 'values':[0.06491199709,0.9350880029]},\n",
    "    'cash':{'labels':['YES', 'NO'], 'values':[0.04105169923,0.9589483008]},\n",
    "    'crypto':{'labels':['YES', 'NO'], 'values':[0.003284135938,0.9967158641]},\n",
    "    'gov_bond':{'labels':['YES', 'NO'], 'values':[0.06835666691,0.9316433331]},\n",
    "    'deposits':{'labels':['YES', 'NO'], 'values':[0.8180293286,0.1819706714]},\n",
    "    'banking':{'labels':['Online', 'Offline'], 'values':[0.09,0.91]},\n",
    "    'bk_oprat':{'labels':['Up to 7', 'From 8 to 10', 'From 11 to 13', 'From 14 to 18', 'From 19 to more'], 'values':[0.0084,0.2424,0.4729,0.2615,0.0148]},\n",
    "    'bk_dc':{'labels':['Under one', 'One', 'Two', 'Three'], 'values':[0.01,0.57,0.38,0.04]},\n",
    "    'bk_cc':{'labels':['YES', 'NO'], 'values':[0.17,0.83]},\n",
    "    'bk_acc':{'labels':['YES', 'NO'], 'values':[0.8634087377,0.1365912623]},\n",
    "    'ins_prop':{'labels':['YES', 'NO'], 'values':[0.05,0.95]},\n",
    "    'ins_life':{'labels':['YES', 'NO'], 'values':[0.09,0.91]},\n",
    "    'ins_casco':{'labels':['YES', 'NO'], 'values':[0.03,0.97]},\n",
    "    'health_ins':{'labels':['YES', 'NO'], 'values':[0.02,0.98]},\n",
    "    'overdraft':{'labels':['YES', 'NO'], 'values':[0.19,0.81]},\n",
    "    'cons_cred':{'labels':['YES', 'NO'], 'values':[0.26,0.74]},\n",
    "    'mortgage':{'labels':['YES', 'NO'], 'values':[0.02,0.98]},\n",
    "    'car_leas':{'labels':['YES', 'NO'], 'values':[0.2,0.8]},\n",
    "    'pens_ins':{'labels':['YES', 'NO'], 'values':[0.11,0.89]}\n",
    "}"
   ]
  },
  {
   "cell_type": "markdown",
   "metadata": {},
   "source": [
    "Correcting mistakes in the features distribution dictionary. We observed that for two features number of labels and values are not the same. We corrected it manually below, in particular we removed 'Other activies' as a possible value for 'prof_ind' and we added the label 'unknown' for 'own_field.'"
   ]
  },
  {
   "cell_type": "code",
   "execution_count": 5,
   "metadata": {},
   "outputs": [
    {
     "name": "stdout",
     "output_type": "stream",
     "text": [
      "prof_ind, 14, 13\n",
      "{'labels': ['Agriculture, forestry and fisheries', 'Mining and processing industry', 'Utilities (electricity distribution and water supply)', 'Construction', 'Trade, automobile and motorcycle repair', 'Transportation, warehousing and mail', 'Hospitality and restaurant services', 'Creation and distribution of information and creative products', 'Telecommunications', 'Financial and administrative activities', 'Public administration', 'Education and research', 'Human health and social work', 'Other activities'], 'values': [0.03090815115, 0.2353, 0.029, 0.05523651408, 0.1645618594, 0.06439111505, 0.05161626582, 0.03936261795, 0.07356911161, 0.04836124844, 0.104946474, 0.06006423384, 0.04269692032]}\n",
      "own_field, 2, 3\n",
      "{'labels': ['YES', 'NO'], 'values': [0.184481059, 0.2621335023, 0.5533854387]}\n"
     ]
    }
   ],
   "source": [
    "for _ in dists.keys():\n",
    "    a = dists[_]['labels']\n",
    "    p = dists[_]['values']\n",
    "    if len(a) != len(p):\n",
    "        print (_ + ', ' + str(len(a)) + ', ' + str(len(p)))\n",
    "        print(dists[_])"
   ]
  },
  {
   "cell_type": "code",
   "execution_count": 6,
   "metadata": {},
   "outputs": [],
   "source": [
    "dists['prof_ind'] = {'labels': ['Agriculture, forestry and fisheries', 'Mining and processing industry', 'Utilities (electricity distribution and water supply)', 'Construction', 'Trade, automobile and motorcycle repair', 'Transportation, warehousing and mail', 'Hospitality and restaurant services', 'Creation and distribution of information and creative products', 'Telecommunications', 'Financial and administrative activities', 'Public administration', 'Education and research', 'Human health and social work'], 'values': [0.03090815115, 0.2353, 0.029, 0.05523651408, 0.1645618594, 0.06439111505, 0.05161626582, 0.03936261795, 0.07356911161, 0.04836124844, 0.104946474, 0.06006423384, 0.04269692032]}\n",
    "dists['own_field'] = {'labels': ['YES', 'NO', 'unkown'], 'values': [0.184481059, 0.2621335023, 0.5533854387]}"
   ]
  },
  {
   "cell_type": "markdown",
   "metadata": {},
   "source": [
    "Pearson correlation matrix among numerical features"
   ]
  },
  {
   "cell_type": "code",
   "execution_count": 7,
   "metadata": {},
   "outputs": [],
   "source": [
    "corr = {\n",
    "    'features': ['age', 'ind_risk', 'income', 'pers_exp', 'house_exp', 'taxes', 'transp_telecom', 'hobby'],\n",
    "    'age': [1, -0.00665947056405372, 0.00291644965339247, 0.0107779942638097, 0.00698674581731255, 0.00729153655132963, 0.0099866509330216, 0.00931630696561133],\n",
    "    'ind_risk': [-0.00665947056405372, 1, 0.0039918072709289, 0.00806259039194059, 0.00457023635440603, 0.0061985340641631, 0.00768699810849585, -0.00332322616613201],\n",
    "    'income': [0.00291644965339247, 0.0039918072709289, 1, 0.560949334881676, 0.58892666343229, 0.581907424628933, 0.562946509689962, 0.352350802339294],\n",
    "    'pers_exp': [0.0107779942638097, 0.00806259039194059, 0.560949334881676, 1, 0.928449923861951, 0.929598634668897, 0.934775947642248, 0.714298364869941],\n",
    "    'house_exp': [0.00698674581731255, 0.00457023635440603, 0.58892666343229, 0.928449923861951, 1, 0.93031279279417, 0.927846735467478, 0.679286362990223],\n",
    "    'taxes': [0.00729153655132963, 0.0061985340641631, 0.581907424628933, 0.929598634668897, 0.93031279279417, 1, 0.92920510128812, 0.689442053350162],\n",
    "    'transp_telecom': [0.0099866509330216, 0.00768699810849585, 0.562946509689962, 0.934775947642248, 0.927846735467478, 0.92920510128812, 1, 0.714114127908189],\n",
    "    'hobby': [0.00931630696561133, -0.00332322616613201, 0.352350802339294, 0.714298364869941, 0.679286362990223, 0.689442053350162, 0.714114127908189, 1]\n",
    "}"
   ]
  },
  {
   "cell_type": "code",
   "execution_count": 8,
   "metadata": {},
   "outputs": [],
   "source": [
    "corr_df = corr2df(corr)"
   ]
  },
  {
   "cell_type": "markdown",
   "metadata": {},
   "source": [
    "Creation of the dataframe. We create separately the dataframe of non-numeric features (based on distribution) and the dataframe of numeric features (based on correlation), then we merge them. Note that even though most of the numeric features are categorical (according to data dictionary), we initially considered them as continuous so it makes sense to assume that they are normally distributed, they will be later categorized. "
   ]
  },
  {
   "cell_type": "markdown",
   "metadata": {},
   "source": [
    "Initial length of the dataframe. It will be reduced through business rules."
   ]
  },
  {
   "cell_type": "code",
   "execution_count": 9,
   "metadata": {},
   "outputs": [],
   "source": [
    "length = 70000"
   ]
  },
  {
   "cell_type": "code",
   "execution_count": 10,
   "metadata": {},
   "outputs": [],
   "source": [
    "cat_var_df = pd.DataFrame() "
   ]
  },
  {
   "cell_type": "markdown",
   "metadata": {},
   "source": [
    "Note that we, instead of the probability distribution vector p, we use here below p divided by the sum of its components. Without this change, we received error that the sum of the probabilities is not 1. We read it's common practice to tackle this issue in this way."
   ]
  },
  {
   "cell_type": "code",
   "execution_count": 11,
   "metadata": {},
   "outputs": [],
   "source": [
    "for _ in dists.keys():\n",
    "    p = np.array(dists[_]['values'])\n",
    "    cat_var_df[_] = np.random.choice(a = dists[_]['labels'], size=length, p = p/p.sum())                   "
   ]
  },
  {
   "cell_type": "markdown",
   "metadata": {},
   "source": [
    "To generate the numeric features with the given correlation matrix, we used Cholesky decomposition. As a first step, we generated normally distributed random variables with mean 0 and standard deviation = 1, the actual means will be then added later on. When generating random variables, we have some spurious correlation and this led the results of the Cholesky decomposition to be non optimal (meaning that the correlation matrix was slightly different from the one assigned). So, we decided to refine this approach, by using the Cholesky decomposition twice: once to the inverse of the spurios correlation matrix to obtain uncorrelated random variables and then to the correlation matrix provided in the instructions. We hope the names of the variables will help understand the various steps. "
   ]
  },
  {
   "cell_type": "code",
   "execution_count": 12,
   "metadata": {},
   "outputs": [],
   "source": [
    "random_num_var = np.random.randn(len(corr['features']), length)"
   ]
  },
  {
   "cell_type": "markdown",
   "metadata": {},
   "source": [
    "Removing residual correlation"
   ]
  },
  {
   "cell_type": "code",
   "execution_count": 13,
   "metadata": {},
   "outputs": [],
   "source": [
    "residual_corr = np.linalg.inv(np.corrcoef(random_num_var))\n",
    "chol_1 = np.linalg.cholesky(residual_corr)\n",
    "uncorr_num_var = np.dot(chol_1, random_num_var)"
   ]
  },
  {
   "cell_type": "markdown",
   "metadata": {},
   "source": [
    "Creating variables with the requested correlation"
   ]
  },
  {
   "cell_type": "code",
   "execution_count": 14,
   "metadata": {},
   "outputs": [
    {
     "data": {
      "text/html": [
       "<div>\n",
       "<style scoped>\n",
       "    .dataframe tbody tr th:only-of-type {\n",
       "        vertical-align: middle;\n",
       "    }\n",
       "\n",
       "    .dataframe tbody tr th {\n",
       "        vertical-align: top;\n",
       "    }\n",
       "\n",
       "    .dataframe thead th {\n",
       "        text-align: right;\n",
       "    }\n",
       "</style>\n",
       "<table border=\"1\" class=\"dataframe\">\n",
       "  <thead>\n",
       "    <tr style=\"text-align: right;\">\n",
       "      <th></th>\n",
       "      <th>age</th>\n",
       "      <th>ind_risk</th>\n",
       "      <th>income</th>\n",
       "      <th>pers_exp</th>\n",
       "      <th>house_exp</th>\n",
       "      <th>taxes</th>\n",
       "      <th>transp_telecom</th>\n",
       "      <th>hobby</th>\n",
       "    </tr>\n",
       "  </thead>\n",
       "  <tbody>\n",
       "    <tr>\n",
       "      <th>0</th>\n",
       "      <td>0.197597</td>\n",
       "      <td>1.723989</td>\n",
       "      <td>0.777965</td>\n",
       "      <td>1.088047</td>\n",
       "      <td>0.567980</td>\n",
       "      <td>0.868393</td>\n",
       "      <td>0.512842</td>\n",
       "      <td>1.665034</td>\n",
       "    </tr>\n",
       "    <tr>\n",
       "      <th>1</th>\n",
       "      <td>0.169654</td>\n",
       "      <td>-0.106532</td>\n",
       "      <td>-0.606627</td>\n",
       "      <td>-1.483536</td>\n",
       "      <td>-1.150274</td>\n",
       "      <td>-1.500685</td>\n",
       "      <td>-0.700266</td>\n",
       "      <td>-1.259145</td>\n",
       "    </tr>\n",
       "    <tr>\n",
       "      <th>2</th>\n",
       "      <td>0.626905</td>\n",
       "      <td>-1.241114</td>\n",
       "      <td>2.294546</td>\n",
       "      <td>0.906293</td>\n",
       "      <td>0.687231</td>\n",
       "      <td>0.823838</td>\n",
       "      <td>0.824556</td>\n",
       "      <td>0.848589</td>\n",
       "    </tr>\n",
       "    <tr>\n",
       "      <th>3</th>\n",
       "      <td>0.977462</td>\n",
       "      <td>-0.805672</td>\n",
       "      <td>-0.445869</td>\n",
       "      <td>-2.113964</td>\n",
       "      <td>-1.654715</td>\n",
       "      <td>-1.604722</td>\n",
       "      <td>-1.499750</td>\n",
       "      <td>-0.998975</td>\n",
       "    </tr>\n",
       "    <tr>\n",
       "      <th>4</th>\n",
       "      <td>-0.629191</td>\n",
       "      <td>-1.742219</td>\n",
       "      <td>-0.861878</td>\n",
       "      <td>-2.319986</td>\n",
       "      <td>-1.491540</td>\n",
       "      <td>-2.065550</td>\n",
       "      <td>-1.995944</td>\n",
       "      <td>-0.905145</td>\n",
       "    </tr>\n",
       "    <tr>\n",
       "      <th>...</th>\n",
       "      <td>...</td>\n",
       "      <td>...</td>\n",
       "      <td>...</td>\n",
       "      <td>...</td>\n",
       "      <td>...</td>\n",
       "      <td>...</td>\n",
       "      <td>...</td>\n",
       "      <td>...</td>\n",
       "    </tr>\n",
       "    <tr>\n",
       "      <th>69995</th>\n",
       "      <td>0.658622</td>\n",
       "      <td>-1.422879</td>\n",
       "      <td>-0.092348</td>\n",
       "      <td>-0.150219</td>\n",
       "      <td>0.277581</td>\n",
       "      <td>0.111177</td>\n",
       "      <td>-0.073158</td>\n",
       "      <td>-0.287976</td>\n",
       "    </tr>\n",
       "    <tr>\n",
       "      <th>69996</th>\n",
       "      <td>-0.684363</td>\n",
       "      <td>-0.037407</td>\n",
       "      <td>-1.568272</td>\n",
       "      <td>-0.356852</td>\n",
       "      <td>-0.426264</td>\n",
       "      <td>-0.339038</td>\n",
       "      <td>-0.310572</td>\n",
       "      <td>0.042511</td>\n",
       "    </tr>\n",
       "    <tr>\n",
       "      <th>69997</th>\n",
       "      <td>-2.476107</td>\n",
       "      <td>-1.289317</td>\n",
       "      <td>0.190216</td>\n",
       "      <td>1.694487</td>\n",
       "      <td>1.581452</td>\n",
       "      <td>1.602250</td>\n",
       "      <td>1.448433</td>\n",
       "      <td>1.899191</td>\n",
       "    </tr>\n",
       "    <tr>\n",
       "      <th>69998</th>\n",
       "      <td>0.917279</td>\n",
       "      <td>1.458694</td>\n",
       "      <td>0.982747</td>\n",
       "      <td>0.756498</td>\n",
       "      <td>0.845301</td>\n",
       "      <td>1.254537</td>\n",
       "      <td>0.819168</td>\n",
       "      <td>0.512817</td>\n",
       "    </tr>\n",
       "    <tr>\n",
       "      <th>69999</th>\n",
       "      <td>0.459754</td>\n",
       "      <td>0.721529</td>\n",
       "      <td>-1.342406</td>\n",
       "      <td>-0.494243</td>\n",
       "      <td>-1.638743</td>\n",
       "      <td>-0.865006</td>\n",
       "      <td>-0.488780</td>\n",
       "      <td>-0.804684</td>\n",
       "    </tr>\n",
       "  </tbody>\n",
       "</table>\n",
       "<p>70000 rows × 8 columns</p>\n",
       "</div>"
      ],
      "text/plain": [
       "            age  ind_risk    income  pers_exp  house_exp     taxes  \\\n",
       "0      0.197597  1.723989  0.777965  1.088047   0.567980  0.868393   \n",
       "1      0.169654 -0.106532 -0.606627 -1.483536  -1.150274 -1.500685   \n",
       "2      0.626905 -1.241114  2.294546  0.906293   0.687231  0.823838   \n",
       "3      0.977462 -0.805672 -0.445869 -2.113964  -1.654715 -1.604722   \n",
       "4     -0.629191 -1.742219 -0.861878 -2.319986  -1.491540 -2.065550   \n",
       "...         ...       ...       ...       ...        ...       ...   \n",
       "69995  0.658622 -1.422879 -0.092348 -0.150219   0.277581  0.111177   \n",
       "69996 -0.684363 -0.037407 -1.568272 -0.356852  -0.426264 -0.339038   \n",
       "69997 -2.476107 -1.289317  0.190216  1.694487   1.581452  1.602250   \n",
       "69998  0.917279  1.458694  0.982747  0.756498   0.845301  1.254537   \n",
       "69999  0.459754  0.721529 -1.342406 -0.494243  -1.638743 -0.865006   \n",
       "\n",
       "       transp_telecom     hobby  \n",
       "0            0.512842  1.665034  \n",
       "1           -0.700266 -1.259145  \n",
       "2            0.824556  0.848589  \n",
       "3           -1.499750 -0.998975  \n",
       "4           -1.995944 -0.905145  \n",
       "...               ...       ...  \n",
       "69995       -0.073158 -0.287976  \n",
       "69996       -0.310572  0.042511  \n",
       "69997        1.448433  1.899191  \n",
       "69998        0.819168  0.512817  \n",
       "69999       -0.488780 -0.804684  \n",
       "\n",
       "[70000 rows x 8 columns]"
      ]
     },
     "execution_count": 14,
     "metadata": {},
     "output_type": "execute_result"
    }
   ],
   "source": [
    "chol_2 = np.linalg.cholesky(corr_df)\n",
    "corr_num_var = np.dot(chol_2, uncorr_num_var)\n",
    "num_var_df = pd.DataFrame((corr_num_var).T, columns=corr['features']) \n",
    "num_var_df"
   ]
  },
  {
   "cell_type": "markdown",
   "metadata": {},
   "source": [
    "We rescale the numerical features so that they vary in the intervals described in the data dictionary."
   ]
  },
  {
   "cell_type": "code",
   "execution_count": 15,
   "metadata": {},
   "outputs": [],
   "source": [
    "num_var_df['age'] = MinMaxScaler(feature_range=(20, 85)).fit_transform(num_var_df[['age']])\n",
    "num_var_df['ind_risk'] = MinMaxScaler(feature_range=(0, 1)).fit_transform(num_var_df[['ind_risk']])\n",
    "num_var_df['income'] = MinMaxScaler(feature_range=(0, 100000)).fit_transform(num_var_df[['income']])\n",
    "num_var_df['pers_exp'] = MinMaxScaler(feature_range=(0, 6000)).fit_transform(num_var_df[['pers_exp']])\n",
    "num_var_df['house_exp'] = MinMaxScaler(feature_range=(0, 4000)).fit_transform(num_var_df[['house_exp']])\n",
    "num_var_df['taxes'] = MinMaxScaler(feature_range=(0, 2500)).fit_transform(num_var_df[['taxes']])\n",
    "num_var_df['transp_telecom'] = MinMaxScaler(feature_range=(0, 2500)).fit_transform(num_var_df[['transp_telecom']])\n",
    "num_var_df['hobby'] = MinMaxScaler(feature_range=(0, 3000)).fit_transform(num_var_df[['hobby']])"
   ]
  },
  {
   "cell_type": "markdown",
   "metadata": {},
   "source": [
    "We round to integers all the numerical features except for 'ind_risk'."
   ]
  },
  {
   "cell_type": "code",
   "execution_count": 16,
   "metadata": {},
   "outputs": [],
   "source": [
    "num_var_df[['age', 'income', 'pers_exp', 'house_exp', 'taxes', 'transp_telecom', 'hobby']] = num_var_df[['age', 'income', 'pers_exp', 'house_exp', 'taxes', 'transp_telecom', 'hobby']].astype(int)"
   ]
  },
  {
   "cell_type": "markdown",
   "metadata": {},
   "source": [
    "We categorized the numerical features according to the bins described in the data dictionary (a bin was missing for 'income' so we added it)."
   ]
  },
  {
   "cell_type": "code",
   "execution_count": 17,
   "metadata": {},
   "outputs": [
    {
     "data": {
      "text/html": [
       "<div>\n",
       "<style scoped>\n",
       "    .dataframe tbody tr th:only-of-type {\n",
       "        vertical-align: middle;\n",
       "    }\n",
       "\n",
       "    .dataframe tbody tr th {\n",
       "        vertical-align: top;\n",
       "    }\n",
       "\n",
       "    .dataframe thead th {\n",
       "        text-align: right;\n",
       "    }\n",
       "</style>\n",
       "<table border=\"1\" class=\"dataframe\">\n",
       "  <thead>\n",
       "    <tr style=\"text-align: right;\">\n",
       "      <th></th>\n",
       "      <th>age</th>\n",
       "      <th>ind_risk</th>\n",
       "      <th>income</th>\n",
       "      <th>pers_exp</th>\n",
       "      <th>house_exp</th>\n",
       "      <th>taxes</th>\n",
       "      <th>transp_telecom</th>\n",
       "      <th>hobby</th>\n",
       "    </tr>\n",
       "  </thead>\n",
       "  <tbody>\n",
       "    <tr>\n",
       "      <th>0</th>\n",
       "      <td>55</td>\n",
       "      <td>0.682953</td>\n",
       "      <td>Up to 74401</td>\n",
       "      <td>up to 4500</td>\n",
       "      <td>up to 3000</td>\n",
       "      <td>up to 2000</td>\n",
       "      <td>up to 1500</td>\n",
       "      <td>up to 3000</td>\n",
       "    </tr>\n",
       "    <tr>\n",
       "      <th>1</th>\n",
       "      <td>55</td>\n",
       "      <td>0.472672</td>\n",
       "      <td>Up to 58801</td>\n",
       "      <td>up to 4500</td>\n",
       "      <td>up to 1500</td>\n",
       "      <td>up to 1000</td>\n",
       "      <td>up to 1500</td>\n",
       "      <td>up to 1500</td>\n",
       "    </tr>\n",
       "    <tr>\n",
       "      <th>2</th>\n",
       "      <td>59</td>\n",
       "      <td>0.342336</td>\n",
       "      <td>Up to 90001</td>\n",
       "      <td>up to 4500</td>\n",
       "      <td>up to 3000</td>\n",
       "      <td>up to 2000</td>\n",
       "      <td>up to 1500</td>\n",
       "      <td>up to 2000</td>\n",
       "    </tr>\n",
       "    <tr>\n",
       "      <th>3</th>\n",
       "      <td>62</td>\n",
       "      <td>0.392358</td>\n",
       "      <td>Up to 58801</td>\n",
       "      <td>up to 4500</td>\n",
       "      <td>up to 1500</td>\n",
       "      <td>up to 1000</td>\n",
       "      <td>up to 1000</td>\n",
       "      <td>up to 1500</td>\n",
       "    </tr>\n",
       "    <tr>\n",
       "      <th>4</th>\n",
       "      <td>48</td>\n",
       "      <td>0.284772</td>\n",
       "      <td>Up to 43201</td>\n",
       "      <td>up to 4500</td>\n",
       "      <td>up to 1500</td>\n",
       "      <td>up to 1000</td>\n",
       "      <td>up to 1000</td>\n",
       "      <td>up to 1500</td>\n",
       "    </tr>\n",
       "    <tr>\n",
       "      <th>...</th>\n",
       "      <td>...</td>\n",
       "      <td>...</td>\n",
       "      <td>...</td>\n",
       "      <td>...</td>\n",
       "      <td>...</td>\n",
       "      <td>...</td>\n",
       "      <td>...</td>\n",
       "      <td>...</td>\n",
       "    </tr>\n",
       "    <tr>\n",
       "      <th>69995</th>\n",
       "      <td>59</td>\n",
       "      <td>0.321456</td>\n",
       "      <td>Up to 58801</td>\n",
       "      <td>up to 4500</td>\n",
       "      <td>up to 3000</td>\n",
       "      <td>up to 2000</td>\n",
       "      <td>up to 1500</td>\n",
       "      <td>up to 1500</td>\n",
       "    </tr>\n",
       "    <tr>\n",
       "      <th>69996</th>\n",
       "      <td>48</td>\n",
       "      <td>0.480612</td>\n",
       "      <td>Up to 43201</td>\n",
       "      <td>up to 4500</td>\n",
       "      <td>up to 3000</td>\n",
       "      <td>up to 2000</td>\n",
       "      <td>up to 1500</td>\n",
       "      <td>up to 2000</td>\n",
       "    </tr>\n",
       "    <tr>\n",
       "      <th>69997</th>\n",
       "      <td>33</td>\n",
       "      <td>0.336799</td>\n",
       "      <td>Up to 58801</td>\n",
       "      <td>up to 4500</td>\n",
       "      <td>up to 3000</td>\n",
       "      <td>up to 2000</td>\n",
       "      <td>up to 2500</td>\n",
       "      <td>up to 3000</td>\n",
       "    </tr>\n",
       "    <tr>\n",
       "      <th>69998</th>\n",
       "      <td>61</td>\n",
       "      <td>0.652477</td>\n",
       "      <td>Up to 74401</td>\n",
       "      <td>up to 4500</td>\n",
       "      <td>up to 3000</td>\n",
       "      <td>up to 2000</td>\n",
       "      <td>up to 1500</td>\n",
       "      <td>up to 2000</td>\n",
       "    </tr>\n",
       "    <tr>\n",
       "      <th>69999</th>\n",
       "      <td>57</td>\n",
       "      <td>0.567795</td>\n",
       "      <td>Up to 43201</td>\n",
       "      <td>up to 4500</td>\n",
       "      <td>up to 1500</td>\n",
       "      <td>up to 1000</td>\n",
       "      <td>up to 1500</td>\n",
       "      <td>up to 1500</td>\n",
       "    </tr>\n",
       "  </tbody>\n",
       "</table>\n",
       "<p>70000 rows × 8 columns</p>\n",
       "</div>"
      ],
      "text/plain": [
       "       age  ind_risk       income    pers_exp   house_exp       taxes  \\\n",
       "0       55  0.682953  Up to 74401  up to 4500  up to 3000  up to 2000   \n",
       "1       55  0.472672  Up to 58801  up to 4500  up to 1500  up to 1000   \n",
       "2       59  0.342336  Up to 90001  up to 4500  up to 3000  up to 2000   \n",
       "3       62  0.392358  Up to 58801  up to 4500  up to 1500  up to 1000   \n",
       "4       48  0.284772  Up to 43201  up to 4500  up to 1500  up to 1000   \n",
       "...    ...       ...          ...         ...         ...         ...   \n",
       "69995   59  0.321456  Up to 58801  up to 4500  up to 3000  up to 2000   \n",
       "69996   48  0.480612  Up to 43201  up to 4500  up to 3000  up to 2000   \n",
       "69997   33  0.336799  Up to 58801  up to 4500  up to 3000  up to 2000   \n",
       "69998   61  0.652477  Up to 74401  up to 4500  up to 3000  up to 2000   \n",
       "69999   57  0.567795  Up to 43201  up to 4500  up to 1500  up to 1000   \n",
       "\n",
       "      transp_telecom       hobby  \n",
       "0         up to 1500  up to 3000  \n",
       "1         up to 1500  up to 1500  \n",
       "2         up to 1500  up to 2000  \n",
       "3         up to 1000  up to 1500  \n",
       "4         up to 1000  up to 1500  \n",
       "...              ...         ...  \n",
       "69995     up to 1500  up to 1500  \n",
       "69996     up to 1500  up to 2000  \n",
       "69997     up to 2500  up to 3000  \n",
       "69998     up to 1500  up to 2000  \n",
       "69999     up to 1500  up to 1500  \n",
       "\n",
       "[70000 rows x 8 columns]"
      ]
     },
     "execution_count": 17,
     "metadata": {},
     "output_type": "execute_result"
    }
   ],
   "source": [
    "categorized = {'income': {'criteria': [num_var_df['income'].between(0, 6121), num_var_df['income'].between(6122, 12001), \n",
    "                           num_var_df['income'].between(12002, 27601), num_var_df['income'].between(27602, 43201), \n",
    "                           num_var_df['income'].between(43202, 58801), num_var_df['income'].between(58802, 74401), \n",
    "                           num_var_df['income'].between(74402, 90001), num_var_df['income'].between(90002, 100000)],\n",
    "                          'values':      \n",
    "                          ['Up to 6121', 'Up to 12001', 'Up to 27601', 'Up to 43201', 'Up to 58801', 'Up to 74401', \n",
    "                           'Up to 90001', 'Over 90001+']},\n",
    "              'pers_exp': {'criteria': [num_var_df['pers_exp'].between(0, 4500), num_var_df['pers_exp'].between(4501, 5000),\n",
    "                           num_var_df['pers_exp'].between(5001, 5500), num_var_df['pers_exp'].between(5501, 6000)],\n",
    "                           'values':\n",
    "                          ['up to 4500', 'up to 5000', 'up to 5500', 'up to 6000']},\n",
    "               'house_exp': {'criteria': [num_var_df['house_exp'].between(0, 500), num_var_df['house_exp'].between(501, 1500),\n",
    "                           num_var_df['house_exp'].between(1501, 3000), num_var_df['house_exp'].between(3001, 4000)],\n",
    "                           'values':\n",
    "                          ['up to 500', 'up to 1500', 'up to 3000', 'up to 4000']},\n",
    "               'taxes': {'criteria': [num_var_df['taxes'].between(0, 500), num_var_df['taxes'].between(501, 1000),\n",
    "                           num_var_df['taxes'].between(1001, 2000), num_var_df['taxes'].between(2001, 2500)],\n",
    "                           'values':\n",
    "                          ['up to 500', 'up to 1000', 'up to 2000', 'up to 2500']},\n",
    "               'transp_telecom': {'criteria': [num_var_df['transp_telecom'].between(0, 500), num_var_df['transp_telecom'].between(501, 1000),\n",
    "                           num_var_df['transp_telecom'].between(1001, 1500), num_var_df['transp_telecom'].between(1501, 2500)],\n",
    "                           'values':\n",
    "                          ['up to 500', 'up to 1000', 'up to 1500', 'up to 2500']},\n",
    "               'hobby': {'criteria': [num_var_df['hobby'].between(0, 1), num_var_df['hobby'].between(1, 1500),\n",
    "                           num_var_df['hobby'].between(1501, 2000), num_var_df['hobby'].between(2001, 3000)],\n",
    "                           'values':\n",
    "                          ['0', 'up to 1500', 'up to 2000', 'up to 3000']}}\n",
    "\n",
    "for _ in categorized.keys():\n",
    "    num_var_df[_] = np.select(categorized[_]['criteria'], categorized[_]['values'], 0)\n",
    "num_var_df"
   ]
  },
  {
   "cell_type": "markdown",
   "metadata": {},
   "source": [
    "We now obtain the dataset concatening the two datasets created"
   ]
  },
  {
   "cell_type": "code",
   "execution_count": 18,
   "metadata": {},
   "outputs": [
    {
     "data": {
      "text/plain": [
       "(70000, 48)"
      ]
     },
     "execution_count": 18,
     "metadata": {},
     "output_type": "execute_result"
    }
   ],
   "source": [
    "df_without_rules = pd.concat([cat_var_df, num_var_df], axis = 1)\n",
    "df_without_rules.shape"
   ]
  },
  {
   "cell_type": "markdown",
   "metadata": {},
   "source": [
    "Business rules. Reduntant rules and rules which involve values outside the data dictionary's intervals were ignored. "
   ]
  },
  {
   "cell_type": "code",
   "execution_count": 19,
   "metadata": {},
   "outputs": [
    {
     "data": {
      "text/plain": [
       "(32582, 48)"
      ]
     },
     "execution_count": 19,
     "metadata": {},
     "output_type": "execute_result"
    }
   ],
   "source": [
    "df = df_without_rules\n",
    "df = df.drop(df[(df['marit_stat'] == 'Married') & (df['house_memb'] <= '2')].index)\n",
    "df = df.drop(df[(df['prof_ind'] == 'Financial and administrative activities') & (df['invest_exp'] == '0')].index)\n",
    "df = df.drop(df[(df['age'] < 25) & (df['invest_exp'] != '0')].index)\n",
    "df = df.drop(df[(df['age'] < 25) & (df['lv_educ'] == 'Higher')].index)\n",
    "df = df.drop(df[(df['age'] < 25) & (~df['chil_u_18_y'].isin(['No children under 18', 'One child under 18']))].index)\n",
    "df = df.drop(df[(df['invest_exp'] != '0') & (df['deposits'] == 'NO')].index)\n",
    "df = df.drop(df[(df['shares'] == 'YES') & (df['invest_exp'] == '0')].index)\n",
    "df = df.drop(df[(df['gov_bond'] == 'YES') & (df['invest_exp'] == '0')].index)\n",
    "df = df.drop(df[(df['oth'] == 'YES') & (df['invest_exp'] == '0')].index)\n",
    "df = df.drop(df[(df['inv_fund'] == 'YES') & (df['invest_exp'] == '0')].index)\n",
    "df = df.drop(df[(df['cash'] == 'YES') & (df['invest_exp'] == '0')].index)\n",
    "df = df.drop(df[(df['crypto'] == 'YES') & (df['invest_exp'] == '0')].index)\n",
    "df = df.drop(df[(df['corp_oblig'] == 'YES') & (df['invest_exp'] == '0')].index)\n",
    "df = df.drop(df[(df['age'] < 25) & (df['bk_acc'] == 'YES')].index)\n",
    "df = df.drop(df[(df['lv_educ'] == 'Higher') & (df['income'].isin(['Up to 6121', 'Up to 12001', 'Up to 27601']))].index)\n",
    "df = df.drop(df[(~df['chil_u_18_y'].isin(['No children under 18', 'One child under 18'])) & (df['house_memb'] <= '3')].index)\n",
    "df = df.drop(df[(df['lv_educ'] == 'Higher') & (df['soc_econ_stat'] != 'Economically active')].index)\n",
    "\n",
    "df.shape"
   ]
  },
  {
   "cell_type": "markdown",
   "metadata": {},
   "source": [
    "We now need to assign the targets columns to the dataset we created. In order to assign targets in a meaningful way, we will use unsupervised clustering, in particular K-Means. Details will be provided in the following. "
   ]
  },
  {
   "cell_type": "markdown",
   "metadata": {},
   "source": [
    "First of all, we create a copy of our dataset in which we will replace categorical values with numerical ones."
   ]
  },
  {
   "cell_type": "code",
   "execution_count": 20,
   "metadata": {},
   "outputs": [
    {
     "data": {
      "text/html": [
       "<div>\n",
       "<style scoped>\n",
       "    .dataframe tbody tr th:only-of-type {\n",
       "        vertical-align: middle;\n",
       "    }\n",
       "\n",
       "    .dataframe tbody tr th {\n",
       "        vertical-align: top;\n",
       "    }\n",
       "\n",
       "    .dataframe thead th {\n",
       "        text-align: right;\n",
       "    }\n",
       "</style>\n",
       "<table border=\"1\" class=\"dataframe\">\n",
       "  <thead>\n",
       "    <tr style=\"text-align: right;\">\n",
       "      <th></th>\n",
       "      <th>age</th>\n",
       "      <th>ind_risk</th>\n",
       "      <th>sex</th>\n",
       "      <th>lv_educ</th>\n",
       "      <th>empl_stat</th>\n",
       "      <th>marit_stat</th>\n",
       "      <th>house_memb</th>\n",
       "      <th>chil_u_18_y</th>\n",
       "      <th>nation</th>\n",
       "      <th>religion</th>\n",
       "      <th>...</th>\n",
       "      <th>cons_cred</th>\n",
       "      <th>mortgage</th>\n",
       "      <th>car_leas</th>\n",
       "      <th>pens_ins</th>\n",
       "      <th>income</th>\n",
       "      <th>pers_exp</th>\n",
       "      <th>house_exp</th>\n",
       "      <th>taxes</th>\n",
       "      <th>transp_telecom</th>\n",
       "      <th>hobby</th>\n",
       "    </tr>\n",
       "  </thead>\n",
       "  <tbody>\n",
       "    <tr>\n",
       "      <th>0</th>\n",
       "      <td>55</td>\n",
       "      <td>0.682953</td>\n",
       "      <td>0</td>\n",
       "      <td>4</td>\n",
       "      <td>3</td>\n",
       "      <td>2</td>\n",
       "      <td>0</td>\n",
       "      <td>3</td>\n",
       "      <td>0</td>\n",
       "      <td>4</td>\n",
       "      <td>...</td>\n",
       "      <td>0</td>\n",
       "      <td>0</td>\n",
       "      <td>1</td>\n",
       "      <td>0</td>\n",
       "      <td>6</td>\n",
       "      <td>0</td>\n",
       "      <td>1</td>\n",
       "      <td>1</td>\n",
       "      <td>1</td>\n",
       "      <td>3</td>\n",
       "    </tr>\n",
       "    <tr>\n",
       "      <th>1</th>\n",
       "      <td>55</td>\n",
       "      <td>0.472672</td>\n",
       "      <td>0</td>\n",
       "      <td>3</td>\n",
       "      <td>1</td>\n",
       "      <td>1</td>\n",
       "      <td>2</td>\n",
       "      <td>2</td>\n",
       "      <td>0</td>\n",
       "      <td>4</td>\n",
       "      <td>...</td>\n",
       "      <td>0</td>\n",
       "      <td>0</td>\n",
       "      <td>0</td>\n",
       "      <td>0</td>\n",
       "      <td>4</td>\n",
       "      <td>0</td>\n",
       "      <td>0</td>\n",
       "      <td>0</td>\n",
       "      <td>1</td>\n",
       "      <td>1</td>\n",
       "    </tr>\n",
       "    <tr>\n",
       "      <th>2</th>\n",
       "      <td>59</td>\n",
       "      <td>0.342336</td>\n",
       "      <td>0</td>\n",
       "      <td>4</td>\n",
       "      <td>0</td>\n",
       "      <td>2</td>\n",
       "      <td>3</td>\n",
       "      <td>6</td>\n",
       "      <td>0</td>\n",
       "      <td>4</td>\n",
       "      <td>...</td>\n",
       "      <td>0</td>\n",
       "      <td>0</td>\n",
       "      <td>0</td>\n",
       "      <td>0</td>\n",
       "      <td>7</td>\n",
       "      <td>0</td>\n",
       "      <td>1</td>\n",
       "      <td>1</td>\n",
       "      <td>1</td>\n",
       "      <td>2</td>\n",
       "    </tr>\n",
       "    <tr>\n",
       "      <th>6</th>\n",
       "      <td>40</td>\n",
       "      <td>0.378743</td>\n",
       "      <td>1</td>\n",
       "      <td>4</td>\n",
       "      <td>0</td>\n",
       "      <td>1</td>\n",
       "      <td>2</td>\n",
       "      <td>2</td>\n",
       "      <td>0</td>\n",
       "      <td>1</td>\n",
       "      <td>...</td>\n",
       "      <td>0</td>\n",
       "      <td>0</td>\n",
       "      <td>0</td>\n",
       "      <td>0</td>\n",
       "      <td>6</td>\n",
       "      <td>1</td>\n",
       "      <td>1</td>\n",
       "      <td>1</td>\n",
       "      <td>2</td>\n",
       "      <td>3</td>\n",
       "    </tr>\n",
       "    <tr>\n",
       "      <th>7</th>\n",
       "      <td>69</td>\n",
       "      <td>0.469744</td>\n",
       "      <td>0</td>\n",
       "      <td>3</td>\n",
       "      <td>0</td>\n",
       "      <td>3</td>\n",
       "      <td>3</td>\n",
       "      <td>2</td>\n",
       "      <td>0</td>\n",
       "      <td>2</td>\n",
       "      <td>...</td>\n",
       "      <td>0</td>\n",
       "      <td>0</td>\n",
       "      <td>0</td>\n",
       "      <td>0</td>\n",
       "      <td>4</td>\n",
       "      <td>0</td>\n",
       "      <td>1</td>\n",
       "      <td>1</td>\n",
       "      <td>0</td>\n",
       "      <td>1</td>\n",
       "    </tr>\n",
       "    <tr>\n",
       "      <th>8</th>\n",
       "      <td>80</td>\n",
       "      <td>0.389711</td>\n",
       "      <td>0</td>\n",
       "      <td>3</td>\n",
       "      <td>0</td>\n",
       "      <td>2</td>\n",
       "      <td>2</td>\n",
       "      <td>2</td>\n",
       "      <td>0</td>\n",
       "      <td>4</td>\n",
       "      <td>...</td>\n",
       "      <td>0</td>\n",
       "      <td>0</td>\n",
       "      <td>0</td>\n",
       "      <td>0</td>\n",
       "      <td>4</td>\n",
       "      <td>0</td>\n",
       "      <td>1</td>\n",
       "      <td>1</td>\n",
       "      <td>1</td>\n",
       "      <td>1</td>\n",
       "    </tr>\n",
       "    <tr>\n",
       "      <th>10</th>\n",
       "      <td>48</td>\n",
       "      <td>0.412779</td>\n",
       "      <td>0</td>\n",
       "      <td>1</td>\n",
       "      <td>0</td>\n",
       "      <td>0</td>\n",
       "      <td>2</td>\n",
       "      <td>2</td>\n",
       "      <td>0</td>\n",
       "      <td>4</td>\n",
       "      <td>...</td>\n",
       "      <td>0</td>\n",
       "      <td>1</td>\n",
       "      <td>0</td>\n",
       "      <td>0</td>\n",
       "      <td>4</td>\n",
       "      <td>0</td>\n",
       "      <td>0</td>\n",
       "      <td>0</td>\n",
       "      <td>0</td>\n",
       "      <td>1</td>\n",
       "    </tr>\n",
       "    <tr>\n",
       "      <th>13</th>\n",
       "      <td>51</td>\n",
       "      <td>0.494608</td>\n",
       "      <td>0</td>\n",
       "      <td>0</td>\n",
       "      <td>0</td>\n",
       "      <td>2</td>\n",
       "      <td>3</td>\n",
       "      <td>2</td>\n",
       "      <td>0</td>\n",
       "      <td>4</td>\n",
       "      <td>...</td>\n",
       "      <td>1</td>\n",
       "      <td>0</td>\n",
       "      <td>0</td>\n",
       "      <td>0</td>\n",
       "      <td>4</td>\n",
       "      <td>0</td>\n",
       "      <td>1</td>\n",
       "      <td>1</td>\n",
       "      <td>1</td>\n",
       "      <td>1</td>\n",
       "    </tr>\n",
       "    <tr>\n",
       "      <th>14</th>\n",
       "      <td>56</td>\n",
       "      <td>0.591030</td>\n",
       "      <td>1</td>\n",
       "      <td>0</td>\n",
       "      <td>0</td>\n",
       "      <td>2</td>\n",
       "      <td>2</td>\n",
       "      <td>3</td>\n",
       "      <td>0</td>\n",
       "      <td>4</td>\n",
       "      <td>...</td>\n",
       "      <td>1</td>\n",
       "      <td>0</td>\n",
       "      <td>0</td>\n",
       "      <td>0</td>\n",
       "      <td>4</td>\n",
       "      <td>0</td>\n",
       "      <td>1</td>\n",
       "      <td>1</td>\n",
       "      <td>1</td>\n",
       "      <td>2</td>\n",
       "    </tr>\n",
       "    <tr>\n",
       "      <th>17</th>\n",
       "      <td>53</td>\n",
       "      <td>0.590556</td>\n",
       "      <td>0</td>\n",
       "      <td>1</td>\n",
       "      <td>0</td>\n",
       "      <td>2</td>\n",
       "      <td>2</td>\n",
       "      <td>3</td>\n",
       "      <td>0</td>\n",
       "      <td>2</td>\n",
       "      <td>...</td>\n",
       "      <td>1</td>\n",
       "      <td>0</td>\n",
       "      <td>0</td>\n",
       "      <td>0</td>\n",
       "      <td>3</td>\n",
       "      <td>0</td>\n",
       "      <td>0</td>\n",
       "      <td>0</td>\n",
       "      <td>1</td>\n",
       "      <td>1</td>\n",
       "    </tr>\n",
       "  </tbody>\n",
       "</table>\n",
       "<p>10 rows × 48 columns</p>\n",
       "</div>"
      ],
      "text/plain": [
       "    age  ind_risk  sex  lv_educ  empl_stat  marit_stat  house_memb  \\\n",
       "0    55  0.682953    0        4          3           2           0   \n",
       "1    55  0.472672    0        3          1           1           2   \n",
       "2    59  0.342336    0        4          0           2           3   \n",
       "6    40  0.378743    1        4          0           1           2   \n",
       "7    69  0.469744    0        3          0           3           3   \n",
       "8    80  0.389711    0        3          0           2           2   \n",
       "10   48  0.412779    0        1          0           0           2   \n",
       "13   51  0.494608    0        0          0           2           3   \n",
       "14   56  0.591030    1        0          0           2           2   \n",
       "17   53  0.590556    0        1          0           2           2   \n",
       "\n",
       "    chil_u_18_y  nation  religion  ...  cons_cred  mortgage  car_leas  \\\n",
       "0             3       0         4  ...          0         0         1   \n",
       "1             2       0         4  ...          0         0         0   \n",
       "2             6       0         4  ...          0         0         0   \n",
       "6             2       0         1  ...          0         0         0   \n",
       "7             2       0         2  ...          0         0         0   \n",
       "8             2       0         4  ...          0         0         0   \n",
       "10            2       0         4  ...          0         1         0   \n",
       "13            2       0         4  ...          1         0         0   \n",
       "14            3       0         4  ...          1         0         0   \n",
       "17            3       0         2  ...          1         0         0   \n",
       "\n",
       "    pens_ins  income  pers_exp  house_exp  taxes  transp_telecom  hobby  \n",
       "0          0       6         0          1      1               1      3  \n",
       "1          0       4         0          0      0               1      1  \n",
       "2          0       7         0          1      1               1      2  \n",
       "6          0       6         1          1      1               2      3  \n",
       "7          0       4         0          1      1               0      1  \n",
       "8          0       4         0          1      1               1      1  \n",
       "10         0       4         0          0      0               0      1  \n",
       "13         0       4         0          1      1               1      1  \n",
       "14         0       4         0          1      1               1      2  \n",
       "17         0       3         0          0      0               1      1  \n",
       "\n",
       "[10 rows x 48 columns]"
      ]
     },
     "execution_count": 20,
     "metadata": {},
     "output_type": "execute_result"
    }
   ],
   "source": [
    "df_with_targets = df.copy()\n",
    "le = LabelEncoder()\n",
    "for _ in list(dists.keys()) + list(categorized.keys()):\n",
    "    label = le.fit_transform(df_with_targets[_])\n",
    "    df_with_targets.drop(_, axis=1, inplace=True)\n",
    "    df_with_targets[_] = label\n",
    "df_with_targets.head(10)"
   ]
  },
  {
   "cell_type": "markdown",
   "metadata": {},
   "source": [
    "Since we will use a distance based algorithm (K-means), to avoid the curse of dimensionality, we will reduce the number of our features using PCA. First, we remove binary features since it's questionable whether to apply PCA to them and then we normalize the remaining features."
   ]
  },
  {
   "cell_type": "code",
   "execution_count": 21,
   "metadata": {},
   "outputs": [
    {
     "data": {
      "text/html": [
       "<div>\n",
       "<style scoped>\n",
       "    .dataframe tbody tr th:only-of-type {\n",
       "        vertical-align: middle;\n",
       "    }\n",
       "\n",
       "    .dataframe tbody tr th {\n",
       "        vertical-align: top;\n",
       "    }\n",
       "\n",
       "    .dataframe thead th {\n",
       "        text-align: right;\n",
       "    }\n",
       "</style>\n",
       "<table border=\"1\" class=\"dataframe\">\n",
       "  <thead>\n",
       "    <tr style=\"text-align: right;\">\n",
       "      <th></th>\n",
       "      <th>PC1</th>\n",
       "      <th>PC2</th>\n",
       "      <th>PC3</th>\n",
       "      <th>PC4</th>\n",
       "      <th>PC5</th>\n",
       "    </tr>\n",
       "  </thead>\n",
       "  <tbody>\n",
       "    <tr>\n",
       "      <th>0</th>\n",
       "      <td>-0.532146</td>\n",
       "      <td>-0.016809</td>\n",
       "      <td>0.250354</td>\n",
       "      <td>0.411617</td>\n",
       "      <td>-0.317001</td>\n",
       "    </tr>\n",
       "    <tr>\n",
       "      <th>1</th>\n",
       "      <td>-0.036984</td>\n",
       "      <td>0.217055</td>\n",
       "      <td>0.606870</td>\n",
       "      <td>-0.271149</td>\n",
       "      <td>-0.227421</td>\n",
       "    </tr>\n",
       "    <tr>\n",
       "      <th>2</th>\n",
       "      <td>-0.203883</td>\n",
       "      <td>0.364212</td>\n",
       "      <td>-0.407165</td>\n",
       "      <td>-0.288710</td>\n",
       "      <td>0.488169</td>\n",
       "    </tr>\n",
       "    <tr>\n",
       "      <th>3</th>\n",
       "      <td>0.121175</td>\n",
       "      <td>0.746220</td>\n",
       "      <td>-0.406898</td>\n",
       "      <td>-0.260874</td>\n",
       "      <td>-0.361140</td>\n",
       "    </tr>\n",
       "    <tr>\n",
       "      <th>4</th>\n",
       "      <td>-0.357643</td>\n",
       "      <td>-0.164299</td>\n",
       "      <td>0.599496</td>\n",
       "      <td>-0.270988</td>\n",
       "      <td>0.069521</td>\n",
       "    </tr>\n",
       "    <tr>\n",
       "      <th>5</th>\n",
       "      <td>-0.348290</td>\n",
       "      <td>-0.173933</td>\n",
       "      <td>0.585264</td>\n",
       "      <td>0.359460</td>\n",
       "      <td>0.481484</td>\n",
       "    </tr>\n",
       "    <tr>\n",
       "      <th>6</th>\n",
       "      <td>0.041737</td>\n",
       "      <td>-0.488504</td>\n",
       "      <td>-0.048134</td>\n",
       "      <td>0.355641</td>\n",
       "      <td>-0.239788</td>\n",
       "    </tr>\n",
       "    <tr>\n",
       "      <th>7</th>\n",
       "      <td>0.868090</td>\n",
       "      <td>0.118022</td>\n",
       "      <td>-0.047058</td>\n",
       "      <td>0.396405</td>\n",
       "      <td>-0.263075</td>\n",
       "    </tr>\n",
       "    <tr>\n",
       "      <th>8</th>\n",
       "      <td>0.238322</td>\n",
       "      <td>-0.656993</td>\n",
       "      <td>-0.053407</td>\n",
       "      <td>-0.242837</td>\n",
       "      <td>-0.230417</td>\n",
       "    </tr>\n",
       "    <tr>\n",
       "      <th>9</th>\n",
       "      <td>0.028801</td>\n",
       "      <td>-0.481092</td>\n",
       "      <td>0.618961</td>\n",
       "      <td>-0.311395</td>\n",
       "      <td>0.522584</td>\n",
       "    </tr>\n",
       "  </tbody>\n",
       "</table>\n",
       "</div>"
      ],
      "text/plain": [
       "        PC1       PC2       PC3       PC4       PC5\n",
       "0 -0.532146 -0.016809  0.250354  0.411617 -0.317001\n",
       "1 -0.036984  0.217055  0.606870 -0.271149 -0.227421\n",
       "2 -0.203883  0.364212 -0.407165 -0.288710  0.488169\n",
       "3  0.121175  0.746220 -0.406898 -0.260874 -0.361140\n",
       "4 -0.357643 -0.164299  0.599496 -0.270988  0.069521\n",
       "5 -0.348290 -0.173933  0.585264  0.359460  0.481484\n",
       "6  0.041737 -0.488504 -0.048134  0.355641 -0.239788\n",
       "7  0.868090  0.118022 -0.047058  0.396405 -0.263075\n",
       "8  0.238322 -0.656993 -0.053407 -0.242837 -0.230417\n",
       "9  0.028801 -0.481092  0.618961 -0.311395  0.522584"
      ]
     },
     "execution_count": 21,
     "metadata": {},
     "output_type": "execute_result"
    }
   ],
   "source": [
    "df_with_targets = df_with_targets.loc[:,df_with_targets.nunique() != 2]\n",
    "normalized_df = MinMaxScaler().fit_transform(df_with_targets)\n",
    "pca_df = PCA(n_components=5)\n",
    "principalComponents_df = pca_df.fit_transform(normalized_df)\n",
    "principal_df = pd.DataFrame(data = principalComponents_df\n",
    "             , columns = ['PC1', 'PC2', 'PC3', 'PC4', 'PC5'])\n",
    "principal_df.head(10)"
   ]
  },
  {
   "cell_type": "markdown",
   "metadata": {},
   "source": [
    "In the code below, we list the most ten important original features for first two principal components.  "
   ]
  },
  {
   "cell_type": "code",
   "execution_count": 22,
   "metadata": {},
   "outputs": [
    {
     "name": "stdout",
     "output_type": "stream",
     "text": [
      "\n",
      "PC1 top 10 features are \n",
      "\n"
     ]
    },
    {
     "data": {
      "text/plain": [
       "lv_educ        0.770322\n",
       "own_field      0.636887\n",
       "temp           0.021928\n",
       "prof_stat      0.012451\n",
       "bk_dc          0.011405\n",
       "prof_ind       0.008801\n",
       "bk_oprat       0.006369\n",
       "count_house    0.004780\n",
       "marit_stat     0.004516\n",
       "hobby          0.003632\n",
       "Name: PC1, dtype: float64"
      ]
     },
     "metadata": {},
     "output_type": "display_data"
    },
    {
     "name": "stdout",
     "output_type": "stream",
     "text": [
      "\n",
      "PC2 top 10 features are \n",
      "\n"
     ]
    },
    {
     "data": {
      "text/plain": [
       "own_field         0.770741\n",
       "lv_educ           0.636713\n",
       "temp              0.009536\n",
       "count_house       0.009349\n",
       "transp_telecom    0.007844\n",
       "empl_stat         0.007090\n",
       "bk_oprat          0.006107\n",
       "edu               0.005983\n",
       "prof_stat         0.005919\n",
       "bk_dc             0.005683\n",
       "Name: PC2, dtype: float64"
      ]
     },
     "metadata": {},
     "output_type": "display_data"
    }
   ],
   "source": [
    "def create_importance_dataframe(model, df): \n",
    "    importance_df  = pd.DataFrame(model.components_)\n",
    "    importance_df.columns  = df.columns\n",
    "    importance_df =importance_df.apply(np.abs)\n",
    "    importance_df=importance_df.transpose()\n",
    "    num_pcs = importance_df.shape[1]\n",
    "    new_columns = [f'PC{i}' for i in range(1, num_pcs + 1)]\n",
    "    importance_df.columns  =new_columns\n",
    "    return importance_df\n",
    "\n",
    "pca = PCA(n_components=5).fit(normalized_df)\n",
    "importance_df  =create_importance_dataframe(pca, df_with_targets)\n",
    "\n",
    "pc1_top_10_features = importance_df['PC1'].sort_values(ascending = False)[:10]\n",
    "print(), print(f'PC1 top 10 features are \\n')\n",
    "display(pc1_top_10_features )\n",
    "\n",
    "pc2_top_10_features = importance_df['PC2'].sort_values(ascending = False)[:10]\n",
    "print(), print(f'PC2 top 10 features are \\n')\n",
    "display(pc2_top_10_features )"
   ]
  },
  {
   "cell_type": "markdown",
   "metadata": {},
   "source": [
    "The below function provides as output the list of clusters with the percentage of points belonging to each cluster, ordered by increasing percentage. Our approach to assign the targets is the following: we consider one of the 3 clusters and we assign target 'YES' randomly selecting the desidered amount of datapoints belonging to this target. In particular, we set n_clusters = 3 because we observed that in this case the second cluster for dimension contains slightly more than 31% of the observations, which is the highest percentage of 'YES' among the targets ('cons_cred_app', 31%). The reasoning behid this approach is the following: first, we assume that one of this three clusters may isolate somehow the clients propense to buy 'cons_cred_app'. Second, we assume that clients propense to buy a certain product will be propense to buy also other products so, from the same cluster representing clients propense to 'cons_cred_app', we randomly sample clients propense to the other products in such a way that their percentages are the ones reported in the instructions. "
   ]
  },
  {
   "cell_type": "code",
   "execution_count": 23,
   "metadata": {},
   "outputs": [],
   "source": [
    "def clusters_percentages(df):\n",
    "    clusters = KMeans(n_clusters = 3, random_state = 0, n_init = 10).fit(df)\n",
    "    counts = dict(Counter(clusters.labels_))\n",
    "    counts.update((x, y/len(df)) for x, y in counts.items())\n",
    "    counts = dict(sorted(counts.items(), key=lambda x: x[1], reverse=False))\n",
    "    return [list(counts.items()), clusters]"
   ]
  },
  {
   "cell_type": "code",
   "execution_count": 24,
   "metadata": {},
   "outputs": [
    {
     "data": {
      "text/plain": [
       "[[(0, 0.27337180038057823), (2, 0.3138235835737524), (1, 0.41280461604566937)],\n",
       " KMeans(n_clusters=3, random_state=0)]"
      ]
     },
     "execution_count": 24,
     "metadata": {},
     "output_type": "execute_result"
    }
   ],
   "source": [
    "x = clusters_percentages(df = principal_df)\n",
    "x"
   ]
  },
  {
   "cell_type": "code",
   "execution_count": 25,
   "metadata": {},
   "outputs": [],
   "source": [
    "targets_distributions = {'overdraft_app': 0.24, 'cons_cred_app': 0.31, 'mortgage_app': 0.03, 'bk_cc_app': 0.21}\n",
    "y = list(df.loc[x[1].labels_ == x[0][1][0]].index)\n",
    "for _ in list(targets_distributions.keys()):\n",
    "    df[_] = 'NO'\n",
    "    df.loc[random.sample(y, int(targets_distributions[_] * len(df))), _] = 'YES'"
   ]
  },
  {
   "cell_type": "code",
   "execution_count": 26,
   "metadata": {},
   "outputs": [
    {
     "data": {
      "text/html": [
       "<div>\n",
       "<style scoped>\n",
       "    .dataframe tbody tr th:only-of-type {\n",
       "        vertical-align: middle;\n",
       "    }\n",
       "\n",
       "    .dataframe tbody tr th {\n",
       "        vertical-align: top;\n",
       "    }\n",
       "\n",
       "    .dataframe thead th {\n",
       "        text-align: right;\n",
       "    }\n",
       "</style>\n",
       "<table border=\"1\" class=\"dataframe\">\n",
       "  <thead>\n",
       "    <tr style=\"text-align: right;\">\n",
       "      <th></th>\n",
       "      <th>sex</th>\n",
       "      <th>lv_educ</th>\n",
       "      <th>empl_stat</th>\n",
       "      <th>marit_stat</th>\n",
       "      <th>house_memb</th>\n",
       "      <th>chil_u_18_y</th>\n",
       "      <th>nation</th>\n",
       "      <th>religion</th>\n",
       "      <th>soc_econ_stat</th>\n",
       "      <th>prof_ind</th>\n",
       "      <th>...</th>\n",
       "      <th>income</th>\n",
       "      <th>pers_exp</th>\n",
       "      <th>house_exp</th>\n",
       "      <th>taxes</th>\n",
       "      <th>transp_telecom</th>\n",
       "      <th>hobby</th>\n",
       "      <th>overdraft_target</th>\n",
       "      <th>cons_cred_target</th>\n",
       "      <th>mortgage_target</th>\n",
       "      <th>bk_cc_target</th>\n",
       "    </tr>\n",
       "  </thead>\n",
       "  <tbody>\n",
       "    <tr>\n",
       "      <th>0</th>\n",
       "      <td>F</td>\n",
       "      <td>Secondary</td>\n",
       "      <td>Self-employed</td>\n",
       "      <td>Single</td>\n",
       "      <td>1</td>\n",
       "      <td>One child under 18</td>\n",
       "      <td>Bulgaria</td>\n",
       "      <td>Orthodox</td>\n",
       "      <td>Economically active</td>\n",
       "      <td>Education and research</td>\n",
       "      <td>...</td>\n",
       "      <td>Up to 74401</td>\n",
       "      <td>up to 4500</td>\n",
       "      <td>up to 3000</td>\n",
       "      <td>up to 2000</td>\n",
       "      <td>up to 1500</td>\n",
       "      <td>up to 3000</td>\n",
       "      <td>NO</td>\n",
       "      <td>NO</td>\n",
       "      <td>NO</td>\n",
       "      <td>NO</td>\n",
       "    </tr>\n",
       "    <tr>\n",
       "      <th>1</th>\n",
       "      <td>F</td>\n",
       "      <td>Primary</td>\n",
       "      <td>Employed in public sector</td>\n",
       "      <td>Married</td>\n",
       "      <td>3</td>\n",
       "      <td>No children under 18</td>\n",
       "      <td>Bulgaria</td>\n",
       "      <td>Orthodox</td>\n",
       "      <td>Economically inactive</td>\n",
       "      <td>Telecommunications</td>\n",
       "      <td>...</td>\n",
       "      <td>Up to 58801</td>\n",
       "      <td>up to 4500</td>\n",
       "      <td>up to 1500</td>\n",
       "      <td>up to 1000</td>\n",
       "      <td>up to 1500</td>\n",
       "      <td>up to 1500</td>\n",
       "      <td>NO</td>\n",
       "      <td>NO</td>\n",
       "      <td>NO</td>\n",
       "      <td>NO</td>\n",
       "    </tr>\n",
       "    <tr>\n",
       "      <th>2</th>\n",
       "      <td>F</td>\n",
       "      <td>Secondary</td>\n",
       "      <td>Employed in private sector</td>\n",
       "      <td>Single</td>\n",
       "      <td>4</td>\n",
       "      <td>Two children under 18</td>\n",
       "      <td>Bulgaria</td>\n",
       "      <td>Orthodox</td>\n",
       "      <td>Economically active</td>\n",
       "      <td>Telecommunications</td>\n",
       "      <td>...</td>\n",
       "      <td>Up to 90001</td>\n",
       "      <td>up to 4500</td>\n",
       "      <td>up to 3000</td>\n",
       "      <td>up to 2000</td>\n",
       "      <td>up to 1500</td>\n",
       "      <td>up to 2000</td>\n",
       "      <td>NO</td>\n",
       "      <td>NO</td>\n",
       "      <td>NO</td>\n",
       "      <td>NO</td>\n",
       "    </tr>\n",
       "    <tr>\n",
       "      <th>6</th>\n",
       "      <td>M</td>\n",
       "      <td>Secondary</td>\n",
       "      <td>Employed in private sector</td>\n",
       "      <td>Married</td>\n",
       "      <td>3</td>\n",
       "      <td>No children under 18</td>\n",
       "      <td>Bulgaria</td>\n",
       "      <td>I do not identify myself</td>\n",
       "      <td>Economically active</td>\n",
       "      <td>Human health and social work</td>\n",
       "      <td>...</td>\n",
       "      <td>Up to 74401</td>\n",
       "      <td>up to 5000</td>\n",
       "      <td>up to 3000</td>\n",
       "      <td>up to 2000</td>\n",
       "      <td>up to 2500</td>\n",
       "      <td>up to 3000</td>\n",
       "      <td>NO</td>\n",
       "      <td>NO</td>\n",
       "      <td>NO</td>\n",
       "      <td>NO</td>\n",
       "    </tr>\n",
       "    <tr>\n",
       "      <th>7</th>\n",
       "      <td>F</td>\n",
       "      <td>Primary</td>\n",
       "      <td>Employed in private sector</td>\n",
       "      <td>Widowed</td>\n",
       "      <td>4</td>\n",
       "      <td>No children under 18</td>\n",
       "      <td>Bulgaria</td>\n",
       "      <td>Muslim</td>\n",
       "      <td>Economically inactive</td>\n",
       "      <td>Education and research</td>\n",
       "      <td>...</td>\n",
       "      <td>Up to 58801</td>\n",
       "      <td>up to 4500</td>\n",
       "      <td>up to 3000</td>\n",
       "      <td>up to 2000</td>\n",
       "      <td>up to 1000</td>\n",
       "      <td>up to 1500</td>\n",
       "      <td>NO</td>\n",
       "      <td>NO</td>\n",
       "      <td>NO</td>\n",
       "      <td>NO</td>\n",
       "    </tr>\n",
       "    <tr>\n",
       "      <th>...</th>\n",
       "      <td>...</td>\n",
       "      <td>...</td>\n",
       "      <td>...</td>\n",
       "      <td>...</td>\n",
       "      <td>...</td>\n",
       "      <td>...</td>\n",
       "      <td>...</td>\n",
       "      <td>...</td>\n",
       "      <td>...</td>\n",
       "      <td>...</td>\n",
       "      <td>...</td>\n",
       "      <td>...</td>\n",
       "      <td>...</td>\n",
       "      <td>...</td>\n",
       "      <td>...</td>\n",
       "      <td>...</td>\n",
       "      <td>...</td>\n",
       "      <td>...</td>\n",
       "      <td>...</td>\n",
       "      <td>...</td>\n",
       "      <td>...</td>\n",
       "    </tr>\n",
       "    <tr>\n",
       "      <th>69991</th>\n",
       "      <td>M</td>\n",
       "      <td>Incomplete</td>\n",
       "      <td>Employed in private sector</td>\n",
       "      <td>Single</td>\n",
       "      <td>3</td>\n",
       "      <td>No children under 18</td>\n",
       "      <td>Bulgaria</td>\n",
       "      <td>I do not identify myself</td>\n",
       "      <td>Economically inactive</td>\n",
       "      <td>Mining and processing industry</td>\n",
       "      <td>...</td>\n",
       "      <td>Up to 58801</td>\n",
       "      <td>up to 4500</td>\n",
       "      <td>up to 3000</td>\n",
       "      <td>up to 2000</td>\n",
       "      <td>up to 1500</td>\n",
       "      <td>up to 2000</td>\n",
       "      <td>NO</td>\n",
       "      <td>NO</td>\n",
       "      <td>NO</td>\n",
       "      <td>NO</td>\n",
       "    </tr>\n",
       "    <tr>\n",
       "      <th>69992</th>\n",
       "      <td>M</td>\n",
       "      <td>Incomplete</td>\n",
       "      <td>Employed in private sector</td>\n",
       "      <td>Single</td>\n",
       "      <td>5</td>\n",
       "      <td>One child under 18</td>\n",
       "      <td>Bulgaria</td>\n",
       "      <td>Orthodox</td>\n",
       "      <td>Economically inactive</td>\n",
       "      <td>Mining and processing industry</td>\n",
       "      <td>...</td>\n",
       "      <td>Up to 58801</td>\n",
       "      <td>up to 4500</td>\n",
       "      <td>up to 1500</td>\n",
       "      <td>up to 1000</td>\n",
       "      <td>up to 1000</td>\n",
       "      <td>up to 1500</td>\n",
       "      <td>NO</td>\n",
       "      <td>NO</td>\n",
       "      <td>NO</td>\n",
       "      <td>NO</td>\n",
       "    </tr>\n",
       "    <tr>\n",
       "      <th>69993</th>\n",
       "      <td>F</td>\n",
       "      <td>Incomplete</td>\n",
       "      <td>Unpaid family workers</td>\n",
       "      <td>Married</td>\n",
       "      <td>4</td>\n",
       "      <td>No children under 18</td>\n",
       "      <td>Bulgaria</td>\n",
       "      <td>Orthodox</td>\n",
       "      <td>Economically inactive</td>\n",
       "      <td>Public administration</td>\n",
       "      <td>...</td>\n",
       "      <td>Up to 58801</td>\n",
       "      <td>up to 4500</td>\n",
       "      <td>up to 3000</td>\n",
       "      <td>up to 2000</td>\n",
       "      <td>up to 1500</td>\n",
       "      <td>up to 1500</td>\n",
       "      <td>YES</td>\n",
       "      <td>YES</td>\n",
       "      <td>NO</td>\n",
       "      <td>YES</td>\n",
       "    </tr>\n",
       "    <tr>\n",
       "      <th>69995</th>\n",
       "      <td>F</td>\n",
       "      <td>Secondary</td>\n",
       "      <td>Employed in private sector</td>\n",
       "      <td>Divorced</td>\n",
       "      <td>3</td>\n",
       "      <td>One child under 18</td>\n",
       "      <td>Bulgaria</td>\n",
       "      <td>I do not identify myself</td>\n",
       "      <td>Economically inactive</td>\n",
       "      <td>Financial and administrative activities</td>\n",
       "      <td>...</td>\n",
       "      <td>Up to 58801</td>\n",
       "      <td>up to 4500</td>\n",
       "      <td>up to 3000</td>\n",
       "      <td>up to 2000</td>\n",
       "      <td>up to 1500</td>\n",
       "      <td>up to 1500</td>\n",
       "      <td>NO</td>\n",
       "      <td>NO</td>\n",
       "      <td>NO</td>\n",
       "      <td>NO</td>\n",
       "    </tr>\n",
       "    <tr>\n",
       "      <th>69999</th>\n",
       "      <td>M</td>\n",
       "      <td>Basic</td>\n",
       "      <td>Employed in public sector</td>\n",
       "      <td>Widowed</td>\n",
       "      <td>2</td>\n",
       "      <td>No children under 18</td>\n",
       "      <td>Bulgaria</td>\n",
       "      <td>Orthodox</td>\n",
       "      <td>Economically active</td>\n",
       "      <td>Transportation, warehousing and mail</td>\n",
       "      <td>...</td>\n",
       "      <td>Up to 43201</td>\n",
       "      <td>up to 4500</td>\n",
       "      <td>up to 1500</td>\n",
       "      <td>up to 1000</td>\n",
       "      <td>up to 1500</td>\n",
       "      <td>up to 1500</td>\n",
       "      <td>YES</td>\n",
       "      <td>YES</td>\n",
       "      <td>NO</td>\n",
       "      <td>YES</td>\n",
       "    </tr>\n",
       "  </tbody>\n",
       "</table>\n",
       "<p>32582 rows × 52 columns</p>\n",
       "</div>"
      ],
      "text/plain": [
       "      sex     lv_educ                   empl_stat marit_stat house_memb  \\\n",
       "0       F   Secondary               Self-employed     Single          1   \n",
       "1       F     Primary   Employed in public sector    Married          3   \n",
       "2       F   Secondary  Employed in private sector     Single          4   \n",
       "6       M   Secondary  Employed in private sector    Married          3   \n",
       "7       F     Primary  Employed in private sector    Widowed          4   \n",
       "...    ..         ...                         ...        ...        ...   \n",
       "69991   M  Incomplete  Employed in private sector     Single          3   \n",
       "69992   M  Incomplete  Employed in private sector     Single          5   \n",
       "69993   F  Incomplete       Unpaid family workers    Married          4   \n",
       "69995   F   Secondary  Employed in private sector   Divorced          3   \n",
       "69999   M       Basic   Employed in public sector    Widowed          2   \n",
       "\n",
       "                 chil_u_18_y    nation                  religion  \\\n",
       "0         One child under 18  Bulgaria                  Orthodox   \n",
       "1       No children under 18  Bulgaria                  Orthodox   \n",
       "2      Two children under 18  Bulgaria                  Orthodox   \n",
       "6       No children under 18  Bulgaria  I do not identify myself   \n",
       "7       No children under 18  Bulgaria                    Muslim   \n",
       "...                      ...       ...                       ...   \n",
       "69991   No children under 18  Bulgaria  I do not identify myself   \n",
       "69992     One child under 18  Bulgaria                  Orthodox   \n",
       "69993   No children under 18  Bulgaria                  Orthodox   \n",
       "69995     One child under 18  Bulgaria  I do not identify myself   \n",
       "69999   No children under 18  Bulgaria                  Orthodox   \n",
       "\n",
       "               soc_econ_stat                                 prof_ind  ...  \\\n",
       "0        Economically active                   Education and research  ...   \n",
       "1      Economically inactive                       Telecommunications  ...   \n",
       "2        Economically active                       Telecommunications  ...   \n",
       "6        Economically active             Human health and social work  ...   \n",
       "7      Economically inactive                   Education and research  ...   \n",
       "...                      ...                                      ...  ...   \n",
       "69991  Economically inactive           Mining and processing industry  ...   \n",
       "69992  Economically inactive           Mining and processing industry  ...   \n",
       "69993  Economically inactive                    Public administration  ...   \n",
       "69995  Economically inactive  Financial and administrative activities  ...   \n",
       "69999    Economically active     Transportation, warehousing and mail  ...   \n",
       "\n",
       "            income    pers_exp   house_exp       taxes transp_telecom  \\\n",
       "0      Up to 74401  up to 4500  up to 3000  up to 2000     up to 1500   \n",
       "1      Up to 58801  up to 4500  up to 1500  up to 1000     up to 1500   \n",
       "2      Up to 90001  up to 4500  up to 3000  up to 2000     up to 1500   \n",
       "6      Up to 74401  up to 5000  up to 3000  up to 2000     up to 2500   \n",
       "7      Up to 58801  up to 4500  up to 3000  up to 2000     up to 1000   \n",
       "...            ...         ...         ...         ...            ...   \n",
       "69991  Up to 58801  up to 4500  up to 3000  up to 2000     up to 1500   \n",
       "69992  Up to 58801  up to 4500  up to 1500  up to 1000     up to 1000   \n",
       "69993  Up to 58801  up to 4500  up to 3000  up to 2000     up to 1500   \n",
       "69995  Up to 58801  up to 4500  up to 3000  up to 2000     up to 1500   \n",
       "69999  Up to 43201  up to 4500  up to 1500  up to 1000     up to 1500   \n",
       "\n",
       "            hobby overdraft_target cons_cred_target mortgage_target  \\\n",
       "0      up to 3000               NO               NO              NO   \n",
       "1      up to 1500               NO               NO              NO   \n",
       "2      up to 2000               NO               NO              NO   \n",
       "6      up to 3000               NO               NO              NO   \n",
       "7      up to 1500               NO               NO              NO   \n",
       "...           ...              ...              ...             ...   \n",
       "69991  up to 2000               NO               NO              NO   \n",
       "69992  up to 1500               NO               NO              NO   \n",
       "69993  up to 1500              YES              YES              NO   \n",
       "69995  up to 1500               NO               NO              NO   \n",
       "69999  up to 1500              YES              YES              NO   \n",
       "\n",
       "      bk_cc_target  \n",
       "0               NO  \n",
       "1               NO  \n",
       "2               NO  \n",
       "6               NO  \n",
       "7               NO  \n",
       "...            ...  \n",
       "69991           NO  \n",
       "69992           NO  \n",
       "69993          YES  \n",
       "69995           NO  \n",
       "69999          YES  \n",
       "\n",
       "[32582 rows x 52 columns]"
      ]
     },
     "execution_count": 26,
     "metadata": {},
     "output_type": "execute_result"
    }
   ],
   "source": [
    "df.rename(columns = {'overdraft_app':'overdraft_target', 'cons_cred_app':'cons_cred_target', 'mortgage_app':'mortgage_target', \n",
    "                             'bk_cc_app':'bk_cc_target'}, inplace = True)\n",
    "df"
   ]
  },
  {
   "cell_type": "markdown",
   "metadata": {},
   "source": [
    "# Propensity models - non imbalanced data"
   ]
  },
  {
   "cell_type": "markdown",
   "metadata": {},
   "source": [
    "In this section we are gonna explore different models in the cases of non imbalanced data (all the targets except 'mortgage'). The metric that we will consider in this case is AUC ROC. In order to develop the propensity models, we proceed with data pre-processing. In particular, for columns with only two values 'YES' or 'NO' we replace them respectively with 1 and 0. For other columns we use LabelEncoder to transform categorical values into numerical ones. "
   ]
  },
  {
   "cell_type": "code",
   "execution_count": 27,
   "metadata": {},
   "outputs": [],
   "source": [
    "df_ = df.copy()\n",
    "\n",
    "binary_cols= [col for col in df_.columns if len(df_[col].unique())==2]\n",
    "df_[binary_cols] = df_[binary_cols].replace({'YES': 1, 'NO': 0})\n",
    "\n",
    "columns_to_be_transformed =  [col for col in df_.columns if col not in df_.describe().columns]\n",
    "\n",
    "le = LabelEncoder()\n",
    "for _ in columns_to_be_transformed:\n",
    "    label = le.fit_transform(df_[_])\n",
    "    df_.drop(_, axis=1, inplace=True)\n",
    "    df_[_] = label"
   ]
  },
  {
   "cell_type": "markdown",
   "metadata": {},
   "source": [
    "We investigate the presence of highly correlated columns. We see that only two columns are highly correlated: 'overdraft_target'\n",
    "and 'cons_cred_target'. Since, when developing a model for a target, the other targets will not be used as predictors, this is not relevant. "
   ]
  },
  {
   "cell_type": "code",
   "execution_count": 28,
   "metadata": {},
   "outputs": [
    {
     "data": {
      "text/plain": [
       "[('overdraft_target', 'cons_cred_target'),\n",
       " ('cons_cred_target', 'bk_cc_target'),\n",
       " ('cons_cred_target', 'lv_educ')]"
      ]
     },
     "execution_count": 28,
     "metadata": {},
     "output_type": "execute_result"
    }
   ],
   "source": [
    "indices = np.where((df_.corr().to_numpy() > 0.7) | (df_.corr().to_numpy() < -0.7))\n",
    "indices = [(df_.columns[x], df_.columns[y]) for x, y in zip(*indices)\n",
    "                                        if x != y and x < y]\n",
    "indices"
   ]
  },
  {
   "cell_type": "markdown",
   "metadata": {},
   "source": [
    "We now split the data in 3 parts: train, test and validation with percenatge respectively 60%, 20% and 20%. The same split will be adopted for all the models in order to make their comparison more consinstent. Since for some algorithms we will need standardized data, we also define 'X_train_std' and 'X_test_std' (see below). "
   ]
  },
  {
   "cell_type": "code",
   "execution_count": 29,
   "metadata": {},
   "outputs": [],
   "source": [
    "df_train_, df_test = train_test_split(df_, test_size=0.2, random_state=0)\n",
    "\n",
    "df_train, df_val = train_test_split(df_train_, test_size=0.25, random_state=0)"
   ]
  },
  {
   "cell_type": "code",
   "execution_count": 30,
   "metadata": {},
   "outputs": [],
   "source": [
    "targets = ['overdraft_target', 'cons_cred_target', 'bk_cc_target', 'mortgage_target']\n",
    "X_train = df_train.drop(columns= targets, axis=1)\n",
    "X_test = df_test.drop(columns= targets, axis=1)\n",
    "X_valid = df_val.drop(columns= targets, axis=1)\n",
    "X_train_std = StandardScaler().fit_transform(X_train)\n",
    "X_test_std = StandardScaler().fit_transform(X_test)"
   ]
  },
  {
   "cell_type": "markdown",
   "metadata": {},
   "source": [
    "# 1) Logistic Regression"
   ]
  },
  {
   "cell_type": "code",
   "execution_count": 31,
   "metadata": {},
   "outputs": [
    {
     "data": {
      "text/plain": [
       "{'overdraft_target': {'train auc roc': 0.9505886737389506,\n",
       "  'test auc roc': 0.9511012514238469},\n",
       " 'cons_cred_target': {'train auc roc': 0.9972320753515009,\n",
       "  'test auc roc': 0.9974521175731483},\n",
       " 'bk_cc_target': {'train auc roc': 0.9363767199298203,\n",
       "  'test auc roc': 0.9381876694258006}}"
      ]
     },
     "execution_count": 31,
     "metadata": {},
     "output_type": "execute_result"
    }
   ],
   "source": [
    "lr_performances = {}\n",
    "lr = LogisticRegression(random_state=0, max_iter = 1100)\n",
    "for target in targets[:-1]:\n",
    "    y_train = df_train[target]\n",
    "    y_test = df_test[target] \n",
    "    lr.fit(X_train, y_train)\n",
    "    y_train_hat = lr.predict(X_train)\n",
    "    y_train_hat_probs = lr.predict_proba(X_train)[:,1]\n",
    "    train_auc_roc = roc_auc_score(y_train, y_train_hat_probs)\n",
    "    y_test_hat = lr.predict(X_test)\n",
    "    y_test_hat_probs = lr.predict_proba(X_test)[:,1]\n",
    "    test_auc_roc = roc_auc_score(y_test, y_test_hat_probs)\n",
    "    lr_performances[target] = {'train auc roc': train_auc_roc,\n",
    "                              'test auc roc': test_auc_roc}\n",
    "lr_performances"
   ]
  },
  {
   "cell_type": "markdown",
   "metadata": {},
   "source": [
    "# 2) Support Vector Classification"
   ]
  },
  {
   "cell_type": "code",
   "execution_count": 32,
   "metadata": {},
   "outputs": [
    {
     "data": {
      "text/plain": [
       "{'overdraft_target': {'train auc roc': 0.9663843916674909,\n",
       "  'test auc roc': 0.949826978363252},\n",
       " 'cons_cred_target': {'train auc roc': 0.9976153131542658,\n",
       "  'test auc roc': 0.9971949897891774},\n",
       " 'bk_cc_target': {'train auc roc': 0.9603132477955743,\n",
       "  'test auc roc': 0.9360889710536809}}"
      ]
     },
     "execution_count": 32,
     "metadata": {},
     "output_type": "execute_result"
    }
   ],
   "source": [
    "svc_performances = {}\n",
    "svc = SVC(random_state=0, probability = True)\n",
    "for target in targets[:-1]:\n",
    "    y_train = df_train[target]\n",
    "    y_test = df_test[target] \n",
    "    svc.fit(X_train_std, y_train)\n",
    "    y_train_hat = svc.predict(X_train_std)\n",
    "    y_train_hat_probs = svc.predict_proba(X_train_std)[:,1]\n",
    "    train_auc_roc = roc_auc_score(y_train, y_train_hat_probs)\n",
    "    y_test_hat = svc.predict(X_test_std)\n",
    "    y_test_hat_probs = svc.predict_proba(X_test_std)[:,1]\n",
    "    test_auc_roc = roc_auc_score(y_test, y_test_hat_probs)\n",
    "    svc_performances[target] = {'train auc roc': train_auc_roc,\n",
    "                              'test auc roc': test_auc_roc}\n",
    "svc_performances"
   ]
  },
  {
   "cell_type": "markdown",
   "metadata": {},
   "source": [
    "# 3) Gradient Boosting classifier"
   ]
  },
  {
   "cell_type": "code",
   "execution_count": 33,
   "metadata": {},
   "outputs": [
    {
     "data": {
      "text/plain": [
       "{'overdraft_target': {'train auc roc': 0.9631282027024897,\n",
       "  'test auc roc': 0.9520920563069165},\n",
       " 'cons_cred_target': {'train auc roc': 0.9995528689330002,\n",
       "  'test auc roc': 0.996817946654467},\n",
       " 'bk_cc_target': {'train auc roc': 0.9520587157773556,\n",
       "  'test auc roc': 0.9384285642413177}}"
      ]
     },
     "execution_count": 33,
     "metadata": {},
     "output_type": "execute_result"
    }
   ],
   "source": [
    "gbc_performances = {}\n",
    "gbc = GradientBoostingClassifier(random_state = 0)\n",
    "for target in targets[:-1]:\n",
    "    y_train = df_train[target]\n",
    "    y_test = df_test[target] \n",
    "    gbc.fit(X_train, y_train)\n",
    "    y_train_hat = gbc.predict(X_train)\n",
    "    y_train_hat_probs = gbc.predict_proba(X_train)[:,1]\n",
    "    train_auc_roc = roc_auc_score(y_train, y_train_hat_probs)\n",
    "    y_test_hat = gbc.predict(X_test)\n",
    "    y_test_hat_probs = gbc.predict_proba(X_test)[:,1]\n",
    "    test_auc_roc = roc_auc_score(y_test, y_test_hat_probs)\n",
    "    gbc_performances[target] = {'train auc roc': train_auc_roc,\n",
    "                              'test auc roc': test_auc_roc}\n",
    "gbc_performances"
   ]
  },
  {
   "cell_type": "markdown",
   "metadata": {},
   "source": [
    "# Compare performances - non imbalanced data"
   ]
  },
  {
   "cell_type": "code",
   "execution_count": 34,
   "metadata": {},
   "outputs": [
    {
     "data": {
      "text/html": [
       "<div>\n",
       "<style scoped>\n",
       "    .dataframe tbody tr th:only-of-type {\n",
       "        vertical-align: middle;\n",
       "    }\n",
       "\n",
       "    .dataframe tbody tr th {\n",
       "        vertical-align: top;\n",
       "    }\n",
       "\n",
       "    .dataframe thead th {\n",
       "        text-align: right;\n",
       "    }\n",
       "</style>\n",
       "<table border=\"1\" class=\"dataframe\">\n",
       "  <thead>\n",
       "    <tr style=\"text-align: right;\">\n",
       "      <th></th>\n",
       "      <th>overdraft_target</th>\n",
       "      <th>cons_cred_target</th>\n",
       "      <th>bk_cc_target</th>\n",
       "    </tr>\n",
       "    <tr>\n",
       "      <th>index</th>\n",
       "      <th></th>\n",
       "      <th></th>\n",
       "      <th></th>\n",
       "    </tr>\n",
       "  </thead>\n",
       "  <tbody>\n",
       "    <tr>\n",
       "      <th>logistic regression</th>\n",
       "      <td>{'train auc roc': 0.9505886737389506, 'test auc roc': 0.9511012514238469}</td>\n",
       "      <td>{'train auc roc': 0.9972320753515009, 'test auc roc': 0.9974521175731483}</td>\n",
       "      <td>{'train auc roc': 0.9363767199298203, 'test auc roc': 0.9381876694258006}</td>\n",
       "    </tr>\n",
       "    <tr>\n",
       "      <th>support vector classifier</th>\n",
       "      <td>{'train auc roc': 0.9663843916674909, 'test auc roc': 0.949826978363252}</td>\n",
       "      <td>{'train auc roc': 0.9976153131542658, 'test auc roc': 0.9971949897891774}</td>\n",
       "      <td>{'train auc roc': 0.9603132477955743, 'test auc roc': 0.9360889710536809}</td>\n",
       "    </tr>\n",
       "    <tr>\n",
       "      <th>gradient boosting classifier</th>\n",
       "      <td>{'train auc roc': 0.9631282027024897, 'test auc roc': 0.9520920563069165}</td>\n",
       "      <td>{'train auc roc': 0.9995528689330002, 'test auc roc': 0.996817946654467}</td>\n",
       "      <td>{'train auc roc': 0.9520587157773556, 'test auc roc': 0.9384285642413177}</td>\n",
       "    </tr>\n",
       "  </tbody>\n",
       "</table>\n",
       "</div>"
      ],
      "text/plain": [
       "                                                                                       overdraft_target  \\\n",
       "index                                                                                                     \n",
       "logistic regression           {'train auc roc': 0.9505886737389506, 'test auc roc': 0.9511012514238469}   \n",
       "support vector classifier      {'train auc roc': 0.9663843916674909, 'test auc roc': 0.949826978363252}   \n",
       "gradient boosting classifier  {'train auc roc': 0.9631282027024897, 'test auc roc': 0.9520920563069165}   \n",
       "\n",
       "                                                                                       cons_cred_target  \\\n",
       "index                                                                                                     \n",
       "logistic regression           {'train auc roc': 0.9972320753515009, 'test auc roc': 0.9974521175731483}   \n",
       "support vector classifier     {'train auc roc': 0.9976153131542658, 'test auc roc': 0.9971949897891774}   \n",
       "gradient boosting classifier   {'train auc roc': 0.9995528689330002, 'test auc roc': 0.996817946654467}   \n",
       "\n",
       "                                                                                           bk_cc_target  \n",
       "index                                                                                                    \n",
       "logistic regression           {'train auc roc': 0.9363767199298203, 'test auc roc': 0.9381876694258006}  \n",
       "support vector classifier     {'train auc roc': 0.9603132477955743, 'test auc roc': 0.9360889710536809}  \n",
       "gradient boosting classifier  {'train auc roc': 0.9520587157773556, 'test auc roc': 0.9384285642413177}  "
      ]
     },
     "execution_count": 34,
     "metadata": {},
     "output_type": "execute_result"
    }
   ],
   "source": [
    "models = ['logistic regression', 'support vector classifier', 'gradient boosting classifier']\n",
    "performances = pd.DataFrame(data=[lr_performances, svc_performances, gbc_performances])\n",
    "performances['index'] = models\n",
    "performances = performances.set_index('index')\n",
    "performances"
   ]
  },
  {
   "cell_type": "markdown",
   "metadata": {},
   "source": [
    "# Explainability"
   ]
  },
  {
   "cell_type": "markdown",
   "metadata": {},
   "source": [
    "We \"explain\" Gradient Boosting by calculating Shap values for each target. In particular, we fit each model on the train set and explain the prediction on the test set. Here we plot the results in two types of graph. "
   ]
  },
  {
   "cell_type": "code",
   "execution_count": 35,
   "metadata": {},
   "outputs": [
    {
     "data": {
      "image/png": "[encoded data removed]",
      "text/plain": [
       "<Figure size 576x684 with 1 Axes>"
      ]
     },
     "metadata": {
      "needs_background": "light"
     },
     "output_type": "display_data"
    },
    {
     "data": {
      "image/png": "[encoded data removed]",
      "text/plain": [
       "<Figure size 576x684 with 2 Axes>"
      ]
     },
     "metadata": {
      "needs_background": "light"
     },
     "output_type": "display_data"
    },
    {
     "data": {
      "image/png": "[encoded data removed]",
      "text/plain": [
       "<Figure size 576x684 with 1 Axes>"
      ]
     },
     "metadata": {
      "needs_background": "light"
     },
     "output_type": "display_data"
    },
    {
     "data": {
      "image/png": "[encoded data removed]",
      "text/plain": [
       "<Figure size 576x684 with 2 Axes>"
      ]
     },
     "metadata": {
      "needs_background": "light"
     },
     "output_type": "display_data"
    },
    {
     "data": {
      "image/png": "[encoded data removed]",
      "text/plain": [
       "<Figure size 576x684 with 1 Axes>"
      ]
     },
     "metadata": {
      "needs_background": "light"
     },
     "output_type": "display_data"
    },
    {
     "data": {
      "image/png": "[encoded data removed]",
      "text/plain": [
       "<Figure size 576x684 with 2 Axes>"
      ]
     },
     "metadata": {
      "needs_background": "light"
     },
     "output_type": "display_data"
    }
   ],
   "source": [
    "%matplotlib inline\n",
    "for target in targets[:-1]:\n",
    "    y_train = df_train[target]\n",
    "    y_test = df_test[target] \n",
    "    gbc.fit(X_train, y_train)\n",
    "    explainer = shap.TreeExplainer(gbc, X_train, model_output='probability', feature_perturbation='interventional')\n",
    "    shap_values = explainer(X_test)\n",
    "    shap.summary_plot(shap_values, plot_type = 'bar', show = False)\n",
    "    plt.title(target)\n",
    "    plt.show()\n",
    "    shap.summary_plot(shap_values, plot_type = 'dot', show = False)\n",
    "    plt.title(target)\n",
    "    plt.show()"
   ]
  },
  {
   "cell_type": "markdown",
   "metadata": {},
   "source": [
    "As we can see from the plots, for each target, the same two features are particularly influential compared to the others: 'lv_educ' and 'own_field'."
   ]
  },
  {
   "cell_type": "markdown",
   "metadata": {},
   "source": [
    "In the following two codes, we will train by Gradient Boosting classifier two type of models:\n",
    "1) using only these two features and \n",
    "2) without these two features.\n",
    "\n",
    "The first part can be regarded as an application of SHAP to feature reduction."
   ]
  },
  {
   "cell_type": "code",
   "execution_count": 36,
   "metadata": {},
   "outputs": [
    {
     "data": {
      "text/plain": [
       "{'overdraft_target': {'train auc roc': 0.9508471618412019,\n",
       "  'test auc roc': 0.9531014684653526},\n",
       " 'cons_cred_target': {'train auc roc': 0.9976866716945849,\n",
       "  'test auc roc': 0.996725473790374},\n",
       " 'bk_cc_target': {'train auc roc': 0.9353711783875768,\n",
       "  'test auc roc': 0.9381096450873233}}"
      ]
     },
     "execution_count": 36,
     "metadata": {},
     "output_type": "execute_result"
    }
   ],
   "source": [
    "most_important_features = ['lv_educ', 'own_field']\n",
    "\n",
    "gbc_performances_mif = {}\n",
    "gbc = GradientBoostingClassifier(random_state = 0)\n",
    "for target in targets[:-1]:\n",
    "    y_train = df_train[target]\n",
    "    y_test = df_test[target] \n",
    "    gbc.fit(X_train[most_important_features], y_train)\n",
    "    y_train_hat = gbc.predict(X_train[most_important_features])\n",
    "    y_train_hat_probs = gbc.predict_proba(X_train[most_important_features])[:,1]\n",
    "    train_auc_roc = roc_auc_score(y_train, y_train_hat_probs)\n",
    "    y_test_hat = gbc.predict(X_test[most_important_features])\n",
    "    y_test_hat_probs = gbc.predict_proba(X_test[most_important_features])[:,1]\n",
    "    test_auc_roc = roc_auc_score(y_test, y_test_hat_probs)\n",
    "    gbc_performances_mif[target] = {'train auc roc': train_auc_roc,\n",
    "                              'test auc roc': test_auc_roc}\n",
    "gbc_performances_mif"
   ]
  },
  {
   "cell_type": "code",
   "execution_count": 37,
   "metadata": {},
   "outputs": [
    {
     "data": {
      "text/plain": [
       "{'overdraft_target': {'train auc roc': 0.6310852888183667,\n",
       "  'test auc roc': 0.5388559596500583},\n",
       " 'cons_cred_target': {'train auc roc': 0.6312982588844975,\n",
       "  'test auc roc': 0.5337533715451018},\n",
       " 'bk_cc_target': {'train auc roc': 0.6381706516629968,\n",
       "  'test auc roc': 0.5354841616277725}}"
      ]
     },
     "execution_count": 37,
     "metadata": {},
     "output_type": "execute_result"
    }
   ],
   "source": [
    "gbc_performances_wmif = {}\n",
    "gbc = GradientBoostingClassifier(random_state = 0)\n",
    "for target in targets[:-1]:\n",
    "    y_train = df_train[target]\n",
    "    y_test = df_test[target] \n",
    "    gbc.fit(X_train.drop(columns= most_important_features, axis=1), y_train)\n",
    "    y_train_hat = gbc.predict(X_train.drop(columns= most_important_features, axis=1))\n",
    "    y_train_hat_probs = gbc.predict_proba(X_train.drop(columns= most_important_features, axis=1))[:,1]\n",
    "    train_auc_roc = roc_auc_score(y_train, y_train_hat_probs)\n",
    "    y_test_hat = gbc.predict(X_test.drop(columns= most_important_features, axis=1))\n",
    "    y_test_hat_probs = gbc.predict_proba(X_test.drop(columns= most_important_features, axis=1))[:,1]\n",
    "    test_auc_roc = roc_auc_score(y_test, y_test_hat_probs)\n",
    "    gbc_performances_wmif[target] = {'train auc roc': train_auc_roc,\n",
    "                              'test auc roc': test_auc_roc}\n",
    "gbc_performances_wmif"
   ]
  },
  {
   "cell_type": "markdown",
   "metadata": {},
   "source": [
    "The performance of models without the most two important fetaures (measured on the test sample) is closed to random model, the model with only the two most important features has performance almost the same as the model trained on all feautures."
   ]
  },
  {
   "cell_type": "markdown",
   "metadata": {},
   "source": [
    "# Propensity models - imbalanced data"
   ]
  },
  {
   "cell_type": "markdown",
   "metadata": {},
   "source": [
    "In this section we will develop propensity model for the 'mortgage' target. Since in this case we are dealing with imbalanced data we will run the models from the previous section focusing on AUC PR metric for comparison. Moreover, we are gonna explore another approach for this particular case. In particular, we will develop an approach based on Isolation Forest which combines unsupervised and supervised learning, details in the following. "
   ]
  },
  {
   "cell_type": "code",
   "execution_count": 38,
   "metadata": {},
   "outputs": [],
   "source": [
    "y_train_imb = df_train['mortgage_target']\n",
    "y_test_imb = df_test['mortgage_target'] \n",
    "y_val_imb = df_val['mortgage_target'] "
   ]
  },
  {
   "cell_type": "markdown",
   "metadata": {},
   "source": [
    "# 1) Logistic Regression"
   ]
  },
  {
   "cell_type": "code",
   "execution_count": 39,
   "metadata": {},
   "outputs": [
    {
     "data": {
      "text/plain": [
       "{'mortgage_target': {'train avg pr': 0.1064814983540973,\n",
       "  'test avg pr': 0.08324629990035239}}"
      ]
     },
     "execution_count": 39,
     "metadata": {},
     "output_type": "execute_result"
    }
   ],
   "source": [
    "lr_performances_imb = {}\n",
    "lr = LogisticRegression(random_state=0, max_iter = 1100)\n",
    "lr.fit(X_train, y_train_imb)\n",
    "y_train_hat = lr.predict(X_train)\n",
    "y_train_hat_probs = lr.predict_proba(X_train)[:,1]\n",
    "train_avg_pr = average_precision_score(y_train_imb, y_train_hat_probs)\n",
    "y_test_hat = lr.predict(X_test)\n",
    "y_test_hat_probs = lr.predict_proba(X_test)[:,1]\n",
    "test_avg_pr = average_precision_score(y_test_imb, y_test_hat_probs)\n",
    "lr_performances_imb['mortgage_target'] = {'train avg pr': train_avg_pr,\n",
    "                              'test avg pr': test_avg_pr}\n",
    "lr_performances_imb"
   ]
  },
  {
   "cell_type": "markdown",
   "metadata": {},
   "source": [
    "# 2) Support vector classification"
   ]
  },
  {
   "cell_type": "code",
   "execution_count": 40,
   "metadata": {},
   "outputs": [
    {
     "data": {
      "text/plain": [
       "{'mortgage_target': {'train avg pr': 0.9777737858003405,\n",
       "  'test auc roc': 0.062156828884683275}}"
      ]
     },
     "execution_count": 40,
     "metadata": {},
     "output_type": "execute_result"
    }
   ],
   "source": [
    "svc_performances_imb = {}\n",
    "svc = SVC(random_state=0, probability = True)\n",
    "svc.fit(X_train_std, y_train_imb)\n",
    "y_train_hat = svc.predict(X_train_std)\n",
    "y_train_hat_probs = svc.predict_proba(X_train_std)[:,1]\n",
    "train_avg_pr = average_precision_score(y_train_imb, y_train_hat_probs)\n",
    "y_test_hat = svc.predict(X_test_std)\n",
    "y_test_hat_probs = svc.predict_proba(X_test_std)[:,1]\n",
    "test_avg_pr = average_precision_score(y_test_imb, y_test_hat_probs)\n",
    "svc_performances_imb['mortgage_target'] = {'train avg pr': train_avg_pr,\n",
    "                              'test auc roc': test_avg_pr}\n",
    "svc_performances_imb"
   ]
  },
  {
   "cell_type": "markdown",
   "metadata": {},
   "source": [
    "# 3) Gradient Boosting classifier"
   ]
  },
  {
   "cell_type": "code",
   "execution_count": 41,
   "metadata": {},
   "outputs": [
    {
     "data": {
      "text/plain": [
       "{'mortgage_target': {'train avg pr': 0.3538342346352539,\n",
       "  'test auc roc': 0.08768447739008262}}"
      ]
     },
     "execution_count": 41,
     "metadata": {},
     "output_type": "execute_result"
    }
   ],
   "source": [
    "gbc_performances_imb = {}\n",
    "gbc = GradientBoostingClassifier(random_state = 0)\n",
    "gbc.fit(X_train_std, y_train_imb)\n",
    "y_train_hat = gbc.predict(X_train_std)\n",
    "y_train_hat_probs = gbc.predict_proba(X_train_std)[:,1]\n",
    "train_avg_pr = average_precision_score(y_train_imb, y_train_hat_probs)\n",
    "y_test_hat = gbc.predict(X_test_std)\n",
    "y_test_hat_probs = gbc.predict_proba(X_test_std)[:,1]\n",
    "test_avg_pr = average_precision_score(y_test_imb, y_test_hat_probs)\n",
    "gbc_performances_imb['mortgage_target'] = {'train avg pr': train_avg_pr,\n",
    "                              'test auc roc': test_avg_pr}\n",
    "gbc_performances_imb"
   ]
  },
  {
   "cell_type": "markdown",
   "metadata": {},
   "source": [
    "# 4) Isolation Forest"
   ]
  },
  {
   "cell_type": "markdown",
   "metadata": {},
   "source": [
    "In the following we will use Isolation Forest, which is an unsupervised method, but we shall somehow exploit the targets that we have so the following approach can be considered as a combination of supervised and unsupervised learning. We shall exploit the targets when providing the contamination parameter for IsolationForest and when measuring the performance. In particular, we shall calculate average_precision_score considering the Isolation Forest scores as probabilities, so we'll use the scores as they are in the original paper (it amounts to multiply by -1 the scores in the sklearn implementation) and the targets. This approach is motivated by the following: when the dataset is heaviliy imbalanced we can consider the positive as \"anomalies\" and we can hope to detect them through with an unsupervised outlier detection method that we enhanche through \"supervised\" adjustments. "
   ]
  },
  {
   "cell_type": "code",
   "execution_count": 42,
   "metadata": {},
   "outputs": [
    {
     "data": {
      "text/plain": [
       "{'mortgage_target': {'train avg pr': 0.029206933200496582,\n",
       "  'test avg pr': 0.02480064549446594}}"
      ]
     },
     "execution_count": 42,
     "metadata": {},
     "output_type": "execute_result"
    }
   ],
   "source": [
    "isolation_forest_performance = {}\n",
    "clf = IsolationForest(random_state=0, contamination = len(df_[df_['mortgage_target'] == 1])/len(df_))\n",
    "clf.fit(X_train.values)\n",
    "y_train_hat = clf.predict(X_train.values)\n",
    "y_train_hat_probs = -1 * clf.score_samples(X_train.values)\n",
    "train_avg_pr = average_precision_score(y_train_imb, y_train_hat_probs)\n",
    "y_test_hat = clf.predict(X_test.values)\n",
    "y_test_hat_probs = -1 * clf.score_samples(X_test.values)\n",
    "test_avg_pr = average_precision_score(y_test_imb, y_test_hat_probs)\n",
    "isolation_forest_performance['mortgage_target'] = {'train avg pr': train_avg_pr,\n",
    "                              'test avg pr': test_avg_pr}\n",
    "isolation_forest_performance"
   ]
  },
  {
   "cell_type": "markdown",
   "metadata": {},
   "source": [
    "# Compare performances - imbalanced data"
   ]
  },
  {
   "cell_type": "code",
   "execution_count": 43,
   "metadata": {},
   "outputs": [
    {
     "data": {
      "text/html": [
       "<div>\n",
       "<style scoped>\n",
       "    .dataframe tbody tr th:only-of-type {\n",
       "        vertical-align: middle;\n",
       "    }\n",
       "\n",
       "    .dataframe tbody tr th {\n",
       "        vertical-align: top;\n",
       "    }\n",
       "\n",
       "    .dataframe thead th {\n",
       "        text-align: right;\n",
       "    }\n",
       "</style>\n",
       "<table border=\"1\" class=\"dataframe\">\n",
       "  <thead>\n",
       "    <tr style=\"text-align: right;\">\n",
       "      <th></th>\n",
       "      <th>mortgage_target</th>\n",
       "    </tr>\n",
       "    <tr>\n",
       "      <th>index</th>\n",
       "      <th></th>\n",
       "    </tr>\n",
       "  </thead>\n",
       "  <tbody>\n",
       "    <tr>\n",
       "      <th>logistic regression</th>\n",
       "      <td>{'train avg pr': 0.1064814983540973, 'test avg pr': 0.08324629990035239}</td>\n",
       "    </tr>\n",
       "    <tr>\n",
       "      <th>support vector classifier</th>\n",
       "      <td>{'train avg pr': 0.9777737858003405, 'test auc roc': 0.062156828884683275}</td>\n",
       "    </tr>\n",
       "    <tr>\n",
       "      <th>gradient boosting classifier</th>\n",
       "      <td>{'train avg pr': 0.3538342346352539, 'test auc roc': 0.08768447739008262}</td>\n",
       "    </tr>\n",
       "    <tr>\n",
       "      <th>isolation forest</th>\n",
       "      <td>{'train avg pr': 0.029206933200496582, 'test avg pr': 0.02480064549446594}</td>\n",
       "    </tr>\n",
       "  </tbody>\n",
       "</table>\n",
       "</div>"
      ],
      "text/plain": [
       "                                                                                         mortgage_target\n",
       "index                                                                                                   \n",
       "logistic regression             {'train avg pr': 0.1064814983540973, 'test avg pr': 0.08324629990035239}\n",
       "support vector classifier     {'train avg pr': 0.9777737858003405, 'test auc roc': 0.062156828884683275}\n",
       "gradient boosting classifier   {'train avg pr': 0.3538342346352539, 'test auc roc': 0.08768447739008262}\n",
       "isolation forest              {'train avg pr': 0.029206933200496582, 'test avg pr': 0.02480064549446594}"
      ]
     },
     "execution_count": 43,
     "metadata": {},
     "output_type": "execute_result"
    }
   ],
   "source": [
    "models_imb = ['logistic regression', 'support vector classifier', 'gradient boosting classifier', 'isolation forest']\n",
    "performances_imb = pd.DataFrame(data=[lr_performances_imb, svc_performances_imb, gbc_performances_imb, isolation_forest_performance])\n",
    "performances_imb['index'] = models_imb\n",
    "performances_imb = performances_imb.set_index('index')\n",
    "performances_imb"
   ]
  },
  {
   "cell_type": "markdown",
   "metadata": {},
   "source": [
    "Both Support Vector Classifier and Gradient Boosting perform well on the training set but it seems that they are both affected by overfitting whereas performance of Logistic Regression are more stable.  "
   ]
  },
  {
   "cell_type": "markdown",
   "metadata": {},
   "source": [
    "# Explainability - imbalanced data"
   ]
  },
  {
   "cell_type": "markdown",
   "metadata": {},
   "source": [
    "Analogously to what we did above, we \"explain\" Gradient Boosting by calculating Shap values for 'mortgage_target'."
   ]
  },
  {
   "cell_type": "code",
   "execution_count": 44,
   "metadata": {},
   "outputs": [
    {
     "data": {
      "image/png": "[encoded data removed]",
      "text/plain": [
       "<Figure size 576x684 with 1 Axes>"
      ]
     },
     "metadata": {
      "needs_background": "light"
     },
     "output_type": "display_data"
    },
    {
     "data": {
      "image/png": "[encoded data removed]",
      "text/plain": [
       "<Figure size 576x684 with 2 Axes>"
      ]
     },
     "metadata": {
      "needs_background": "light"
     },
     "output_type": "display_data"
    }
   ],
   "source": [
    "%matplotlib inline\n",
    "gbc.fit(X_train, y_train_imb)\n",
    "explainer = shap.TreeExplainer(gbc, X_train, model_output='probability', feature_perturbation='interventional')\n",
    "shap_values = explainer(X_test)\n",
    "shap.summary_plot(shap_values, plot_type = 'bar', show = False)\n",
    "plt.title('mortgage_target')\n",
    "plt.show()\n",
    "shap.summary_plot(shap_values, plot_type = 'dot', show = False)\n",
    "plt.title('mortgage_target')\n",
    "plt.show()"
   ]
  },
  {
   "cell_type": "markdown",
   "metadata": {},
   "source": [
    "Even in this case, the features 'lv_educ' and 'own_field' are particularly influential compared to the others"
   ]
  },
  {
   "cell_type": "markdown",
   "metadata": {},
   "source": [
    "# Hyperparametric optimization"
   ]
  },
  {
   "cell_type": "markdown",
   "metadata": {},
   "source": [
    "As regards hyperparametric optimization, we deemed it not necessary for the 'balanced' cases since all the models have already high performances. As regards the imbalanced case, for time/hardware contraints, we decided to perform hyperparametric optimization only for the Logistic Regression with class_weight = 'balanced'. "
   ]
  },
  {
   "cell_type": "code",
   "execution_count": 53,
   "metadata": {},
   "outputs": [
    {
     "name": "stdout",
     "output_type": "stream",
     "text": [
      "{'C': 1, 'solver': 'liblinear'}\n",
      "0.12325622890402603\n"
     ]
    }
   ],
   "source": [
    "parameters = [{'solver': ('liblinear', 'lbfgs'), 'C':[1, 10]}]\n",
    "\n",
    "grid_search = GridSearchCV(estimator = LogisticRegression(random_state=0, max_iter = 5000, class_weight = 'balanced'),  \n",
    "                           param_grid = parameters,\n",
    "                           scoring = 'average_precision',\n",
    "                           verbose=0)\n",
    "\n",
    "grid = grid_search.fit(X_valid, y_val_imb)\n",
    "print(grid.best_params_)\n",
    "print(grid.best_score_)"
   ]
  },
  {
   "cell_type": "markdown",
   "metadata": {},
   "source": [
    "We run again Logistic regression with the parameters obtained thorugh hyperparametrization. "
   ]
  },
  {
   "cell_type": "code",
   "execution_count": 54,
   "metadata": {},
   "outputs": [
    {
     "data": {
      "text/plain": [
       "{'mortgage_target': {'train avg pr': 0.10090515900912216,\n",
       "  'test avg pr': 0.08315494049317604}}"
      ]
     },
     "execution_count": 54,
     "metadata": {},
     "output_type": "execute_result"
    }
   ],
   "source": [
    "lr_performances_imb_opt = {}\n",
    "lr = LogisticRegression(random_state=0, max_iter = 5000, class_weight = 'balanced', **grid.best_params_)\n",
    "lr.fit(X_train, y_train_imb)\n",
    "y_train_hat = lr.predict(X_train)\n",
    "y_train_hat_probs = lr.predict_proba(X_train)[:,1]\n",
    "train_avg_pr = average_precision_score(y_train_imb, y_train_hat_probs)\n",
    "y_test_hat = lr.predict(X_test)\n",
    "y_test_hat_probs = lr.predict_proba(X_test)[:,1]\n",
    "test_avg_pr = average_precision_score(y_test_imb, y_test_hat_probs)\n",
    "lr_performances_imb_opt['mortgage_target'] = {'train avg pr': train_avg_pr,\n",
    "                              'test avg pr': test_avg_pr}\n",
    "lr_performances_imb_opt"
   ]
  },
  {
   "cell_type": "markdown",
   "metadata": {},
   "source": [
    "As you can see below the performances of Logistic Regression don't change much. We keep anyway for completeness the hyperparametric optimization part in the notebook. "
   ]
  },
  {
   "cell_type": "code",
   "execution_count": 55,
   "metadata": {},
   "outputs": [
    {
     "data": {
      "text/html": [
       "<div>\n",
       "<style scoped>\n",
       "    .dataframe tbody tr th:only-of-type {\n",
       "        vertical-align: middle;\n",
       "    }\n",
       "\n",
       "    .dataframe tbody tr th {\n",
       "        vertical-align: top;\n",
       "    }\n",
       "\n",
       "    .dataframe thead th {\n",
       "        text-align: right;\n",
       "    }\n",
       "</style>\n",
       "<table border=\"1\" class=\"dataframe\">\n",
       "  <thead>\n",
       "    <tr style=\"text-align: right;\">\n",
       "      <th></th>\n",
       "      <th>mortgage_target</th>\n",
       "    </tr>\n",
       "    <tr>\n",
       "      <th>index</th>\n",
       "      <th></th>\n",
       "    </tr>\n",
       "  </thead>\n",
       "  <tbody>\n",
       "    <tr>\n",
       "      <th>logistic regression</th>\n",
       "      <td>{'train avg pr': 0.1064814983540973, 'test avg pr': 0.08324629990035239}</td>\n",
       "    </tr>\n",
       "    <tr>\n",
       "      <th>logistic regression optimized</th>\n",
       "      <td>{'train avg pr': 0.10090515900912216, 'test avg pr': 0.08315494049317604}</td>\n",
       "    </tr>\n",
       "  </tbody>\n",
       "</table>\n",
       "</div>"
      ],
      "text/plain": [
       "                                                                                         mortgage_target\n",
       "index                                                                                                   \n",
       "logistic regression             {'train avg pr': 0.1064814983540973, 'test avg pr': 0.08324629990035239}\n",
       "logistic regression optimized  {'train avg pr': 0.10090515900912216, 'test avg pr': 0.08315494049317604}"
      ]
     },
     "execution_count": 55,
     "metadata": {},
     "output_type": "execute_result"
    }
   ],
   "source": [
    "lrs = ['logistic regression', 'logistic regression optimized']\n",
    "lrs_imb = pd.DataFrame(data=[lr_performances_imb, lr_performances_imb_opt])\n",
    "lrs_imb['index'] = lrs\n",
    "lrs_imb = lrs_imb.set_index('index')\n",
    "lrs_imb"
   ]
  }
 ],
 "metadata": {
  "hide_input": false,
  "kernelspec": {
   "display_name": "Python 3",
   "language": "python",
   "name": "python3"
  },
  "language_info": {
   "codemirror_mode": {
    "name": "ipython",
    "version": 3
   },
   "file_extension": ".py",
   "mimetype": "text/x-python",
   "name": "python",
   "nbconvert_exporter": "python",
   "pygments_lexer": "ipython3",
   "version": "3.7.6"
  },
  "latex_envs": {
   "LaTeX_envs_menu_present": true,
   "autoclose": false,
   "autocomplete": true,
   "bibliofile": "biblio.bib",
   "cite_by": "apalike",
   "current_citInitial": 1,
   "eqLabelWithNumbers": true,
   "eqNumInitial": 1,
   "hotkeys": {
    "equation": "Ctrl-E",
    "itemize": "Ctrl-I"
   },
   "labels_anchors": false,
   "latex_user_defs": false,
   "report_style_numbering": false,
   "user_envs_cfg": false
  },
  "nbTranslate": {
   "displayLangs": [
    "*"
   ],
   "hotkey": "alt-t",
   "langInMainMenu": true,
   "sourceLang": "en",
   "targetLang": "fr",
   "useGoogleTranslate": true
  },
  "toc": {
   "base_numbering": 1,
   "nav_menu": {},
   "number_sections": true,
   "sideBar": true,
   "skip_h1_title": false,
   "title_cell": "Table of Contents",
   "title_sidebar": "Contents",
   "toc_cell": false,
   "toc_position": {},
   "toc_section_display": true,
   "toc_window_display": false
  },
  "varInspector": {
   "cols": {
    "lenName": 16,
    "lenType": 16,
    "lenVar": 40
   },
   "kernels_config": {
    "python": {
     "delete_cmd_postfix": "",
     "delete_cmd_prefix": "del ",
     "library": "var_list.py",
     "varRefreshCmd": "print(var_dic_list())"
    },
    "r": {
     "delete_cmd_postfix": ") ",
     "delete_cmd_prefix": "rm(",
     "library": "var_list.r",
     "varRefreshCmd": "cat(var_dic_list()) "
    }
   },
   "types_to_exclude": [
    "module",
    "function",
    "builtin_function_or_method",
    "instance",
    "_Feature"
   ],
   "window_display": true
  }
 },
 "nbformat": 4,
 "nbformat_minor": 2
}
